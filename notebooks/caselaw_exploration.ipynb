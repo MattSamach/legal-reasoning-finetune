{
 "cells": [
  {
   "cell_type": "code",
   "execution_count": 81,
   "metadata": {},
   "outputs": [],
   "source": [
    "from datasets import load_dataset\n",
    "import pandas as pd\n",
    "import numpy as np\n",
    "import random\n",
    "from tqdm import tqdm"
   ]
  },
  {
   "cell_type": "code",
   "execution_count": 40,
   "metadata": {},
   "outputs": [
    {
     "name": "stderr",
     "output_type": "stream",
     "text": [
      "1381it [00:04, 530.71it/s]"
     ]
    },
    {
     "name": "stdout",
     "output_type": "stream",
     "text": [
      "Processed 0 examples, currently have 0 samples\n"
     ]
    },
    {
     "name": "stderr",
     "output_type": "stream",
     "text": [
      "101089it [01:09, 131.98it/s]"
     ]
    },
    {
     "name": "stdout",
     "output_type": "stream",
     "text": [
      "Processed 100000 examples, currently have 2325 samples\n"
     ]
    },
    {
     "name": "stderr",
     "output_type": "stream",
     "text": [
      "200775it [01:23, 6833.01it/s]"
     ]
    },
    {
     "name": "stdout",
     "output_type": "stream",
     "text": [
      "Processed 200000 examples, currently have 4645 samples\n"
     ]
    },
    {
     "name": "stderr",
     "output_type": "stream",
     "text": [
      "301318it [01:55, 6936.11it/s]"
     ]
    },
    {
     "name": "stdout",
     "output_type": "stream",
     "text": [
      "Processed 300000 examples, currently have 6960 samples\n"
     ]
    },
    {
     "name": "stderr",
     "output_type": "stream",
     "text": [
      "400926it [02:44, 5412.91it/s]"
     ]
    },
    {
     "name": "stdout",
     "output_type": "stream",
     "text": [
      "Processed 400000 examples, currently have 9331 samples\n"
     ]
    },
    {
     "name": "stderr",
     "output_type": "stream",
     "text": [
      "501226it [02:58, 7044.42it/s]"
     ]
    },
    {
     "name": "stdout",
     "output_type": "stream",
     "text": [
      "Processed 500000 examples, currently have 11796 samples\n"
     ]
    },
    {
     "name": "stderr",
     "output_type": "stream",
     "text": [
      "601292it [03:12, 7070.81it/s]"
     ]
    },
    {
     "name": "stdout",
     "output_type": "stream",
     "text": [
      "Processed 600000 examples, currently have 14121 samples\n"
     ]
    },
    {
     "name": "stderr",
     "output_type": "stream",
     "text": [
      "701204it [03:26, 7042.19it/s]"
     ]
    },
    {
     "name": "stdout",
     "output_type": "stream",
     "text": [
      "Processed 700000 examples, currently have 16463 samples\n"
     ]
    },
    {
     "name": "stderr",
     "output_type": "stream",
     "text": [
      "801135it [03:59, 6930.66it/s]"
     ]
    },
    {
     "name": "stdout",
     "output_type": "stream",
     "text": [
      "Processed 800000 examples, currently have 18819 samples\n"
     ]
    },
    {
     "name": "stderr",
     "output_type": "stream",
     "text": [
      "901602it [04:17, 6672.87it/s]"
     ]
    },
    {
     "name": "stdout",
     "output_type": "stream",
     "text": [
      "Processed 900000 examples, currently have 21205 samples\n"
     ]
    },
    {
     "name": "stderr",
     "output_type": "stream",
     "text": [
      "1001152it [05:06, 6989.31it/s]"
     ]
    },
    {
     "name": "stdout",
     "output_type": "stream",
     "text": [
      "Processed 1000000 examples, currently have 23607 samples\n"
     ]
    },
    {
     "name": "stderr",
     "output_type": "stream",
     "text": [
      "1101014it [05:20, 6885.52it/s]"
     ]
    },
    {
     "name": "stdout",
     "output_type": "stream",
     "text": [
      "Processed 1100000 examples, currently have 26008 samples\n"
     ]
    },
    {
     "name": "stderr",
     "output_type": "stream",
     "text": [
      "1201118it [05:50, 6931.72it/s]"
     ]
    },
    {
     "name": "stdout",
     "output_type": "stream",
     "text": [
      "Processed 1200000 examples, currently have 28288 samples\n"
     ]
    },
    {
     "name": "stderr",
     "output_type": "stream",
     "text": [
      "1301832it [06:24, 6986.75it/s]"
     ]
    },
    {
     "name": "stdout",
     "output_type": "stream",
     "text": [
      "Processed 1300000 examples, currently have 30666 samples\n"
     ]
    },
    {
     "name": "stderr",
     "output_type": "stream",
     "text": [
      "1402082it [07:21, 4900.85it/s]"
     ]
    },
    {
     "name": "stdout",
     "output_type": "stream",
     "text": [
      "Processed 1400000 examples, currently have 33032 samples\n"
     ]
    },
    {
     "name": "stderr",
     "output_type": "stream",
     "text": [
      "1501109it [07:35, 6951.15it/s]"
     ]
    },
    {
     "name": "stdout",
     "output_type": "stream",
     "text": [
      "Processed 1500000 examples, currently have 35389 samples\n"
     ]
    },
    {
     "name": "stderr",
     "output_type": "stream",
     "text": [
      "1601749it [07:50, 7039.66it/s]"
     ]
    },
    {
     "name": "stdout",
     "output_type": "stream",
     "text": [
      "Processed 1600000 examples, currently have 37708 samples\n"
     ]
    },
    {
     "name": "stderr",
     "output_type": "stream",
     "text": [
      "1701012it [08:04, 6991.04it/s]"
     ]
    },
    {
     "name": "stdout",
     "output_type": "stream",
     "text": [
      "Processed 1700000 examples, currently have 40084 samples\n"
     ]
    },
    {
     "name": "stderr",
     "output_type": "stream",
     "text": [
      "1800773it [08:49, 1571.98it/s]"
     ]
    },
    {
     "name": "stdout",
     "output_type": "stream",
     "text": [
      "Processed 1800000 examples, currently have 42441 samples\n"
     ]
    },
    {
     "name": "stderr",
     "output_type": "stream",
     "text": [
      "1900936it [09:23, 6998.12it/s]"
     ]
    },
    {
     "name": "stdout",
     "output_type": "stream",
     "text": [
      "Processed 1900000 examples, currently have 44771 samples\n"
     ]
    },
    {
     "name": "stderr",
     "output_type": "stream",
     "text": [
      "2001341it [09:49, 7029.17it/s]"
     ]
    },
    {
     "name": "stdout",
     "output_type": "stream",
     "text": [
      "Processed 2000000 examples, currently have 47103 samples\n"
     ]
    },
    {
     "name": "stderr",
     "output_type": "stream",
     "text": [
      "2101365it [10:40, 7002.54it/s]"
     ]
    },
    {
     "name": "stdout",
     "output_type": "stream",
     "text": [
      "Processed 2100000 examples, currently have 49384 samples\n"
     ]
    },
    {
     "name": "stderr",
     "output_type": "stream",
     "text": [
      "2200732it [10:54, 6912.89it/s]"
     ]
    },
    {
     "name": "stdout",
     "output_type": "stream",
     "text": [
      "Processed 2200000 examples, currently have 51757 samples\n"
     ]
    },
    {
     "name": "stderr",
     "output_type": "stream",
     "text": [
      "2301358it [11:31, 7084.51it/s]"
     ]
    },
    {
     "name": "stdout",
     "output_type": "stream",
     "text": [
      "Processed 2300000 examples, currently have 54077 samples\n"
     ]
    },
    {
     "name": "stderr",
     "output_type": "stream",
     "text": [
      "2399474it [11:56, 7039.25it/s]"
     ]
    },
    {
     "name": "stdout",
     "output_type": "stream",
     "text": [
      "Processed 2400000 examples, currently have 56364 samples\n"
     ]
    },
    {
     "name": "stderr",
     "output_type": "stream",
     "text": [
      "2501247it [12:33, 7038.79it/s]"
     ]
    },
    {
     "name": "stdout",
     "output_type": "stream",
     "text": [
      "Processed 2500000 examples, currently have 58747 samples\n"
     ]
    },
    {
     "name": "stderr",
     "output_type": "stream",
     "text": [
      "2601541it [13:56, 7112.64it/s]"
     ]
    },
    {
     "name": "stdout",
     "output_type": "stream",
     "text": [
      "Processed 2600000 examples, currently have 61085 samples\n"
     ]
    },
    {
     "name": "stderr",
     "output_type": "stream",
     "text": [
      "2701337it [14:10, 7097.80it/s]"
     ]
    },
    {
     "name": "stdout",
     "output_type": "stream",
     "text": [
      "Processed 2700000 examples, currently have 63537 samples\n"
     ]
    },
    {
     "name": "stderr",
     "output_type": "stream",
     "text": [
      "2801220it [14:24, 7026.07it/s]"
     ]
    },
    {
     "name": "stdout",
     "output_type": "stream",
     "text": [
      "Processed 2800000 examples, currently have 65818 samples\n"
     ]
    },
    {
     "name": "stderr",
     "output_type": "stream",
     "text": [
      "2901009it [14:38, 7006.47it/s]"
     ]
    },
    {
     "name": "stdout",
     "output_type": "stream",
     "text": [
      "Processed 2900000 examples, currently have 68141 samples\n"
     ]
    },
    {
     "name": "stderr",
     "output_type": "stream",
     "text": [
      "3002149it [14:52, 7121.61it/s]"
     ]
    },
    {
     "name": "stdout",
     "output_type": "stream",
     "text": [
      "Processed 3000000 examples, currently have 70411 samples\n"
     ]
    },
    {
     "name": "stderr",
     "output_type": "stream",
     "text": [
      "3101528it [15:06, 7030.60it/s]"
     ]
    },
    {
     "name": "stdout",
     "output_type": "stream",
     "text": [
      "Processed 3100000 examples, currently have 72799 samples\n"
     ]
    },
    {
     "name": "stderr",
     "output_type": "stream",
     "text": [
      "3201284it [15:21, 6947.09it/s]"
     ]
    },
    {
     "name": "stdout",
     "output_type": "stream",
     "text": [
      "Processed 3200000 examples, currently have 75220 samples\n"
     ]
    },
    {
     "name": "stderr",
     "output_type": "stream",
     "text": [
      "3301050it [15:39, 7001.07it/s]"
     ]
    },
    {
     "name": "stdout",
     "output_type": "stream",
     "text": [
      "Processed 3300000 examples, currently have 77514 samples\n"
     ]
    },
    {
     "name": "stderr",
     "output_type": "stream",
     "text": [
      "3401189it [15:53, 7052.13it/s]"
     ]
    },
    {
     "name": "stdout",
     "output_type": "stream",
     "text": [
      "Processed 3400000 examples, currently have 79793 samples\n"
     ]
    },
    {
     "name": "stderr",
     "output_type": "stream",
     "text": [
      "3501130it [16:07, 7039.51it/s]"
     ]
    },
    {
     "name": "stdout",
     "output_type": "stream",
     "text": [
      "Processed 3500000 examples, currently have 82066 samples\n"
     ]
    },
    {
     "name": "stderr",
     "output_type": "stream",
     "text": [
      "3601994it [16:21, 7132.35it/s]"
     ]
    },
    {
     "name": "stdout",
     "output_type": "stream",
     "text": [
      "Processed 3600000 examples, currently have 84351 samples\n"
     ]
    },
    {
     "name": "stderr",
     "output_type": "stream",
     "text": [
      "3701626it [16:59, 7022.97it/s]"
     ]
    },
    {
     "name": "stdout",
     "output_type": "stream",
     "text": [
      "Processed 3700000 examples, currently have 86607 samples\n"
     ]
    },
    {
     "name": "stderr",
     "output_type": "stream",
     "text": [
      "3801321it [17:13, 7017.96it/s]"
     ]
    },
    {
     "name": "stdout",
     "output_type": "stream",
     "text": [
      "Processed 3800000 examples, currently have 89034 samples\n"
     ]
    },
    {
     "name": "stderr",
     "output_type": "stream",
     "text": [
      "3901007it [17:52, 4590.62it/s]"
     ]
    },
    {
     "name": "stdout",
     "output_type": "stream",
     "text": [
      "Processed 3900000 examples, currently have 91292 samples\n"
     ]
    },
    {
     "name": "stderr",
     "output_type": "stream",
     "text": [
      "4001159it [18:39, 7017.07it/s]"
     ]
    },
    {
     "name": "stdout",
     "output_type": "stream",
     "text": [
      "Processed 4000000 examples, currently have 93637 samples\n"
     ]
    },
    {
     "name": "stderr",
     "output_type": "stream",
     "text": [
      "4101206it [18:53, 7006.27it/s]"
     ]
    },
    {
     "name": "stdout",
     "output_type": "stream",
     "text": [
      "Processed 4100000 examples, currently have 96042 samples\n"
     ]
    },
    {
     "name": "stderr",
     "output_type": "stream",
     "text": [
      "4200868it [19:33, 6167.05it/s]"
     ]
    },
    {
     "name": "stdout",
     "output_type": "stream",
     "text": [
      "Processed 4200000 examples, currently have 98312 samples\n"
     ]
    },
    {
     "name": "stderr",
     "output_type": "stream",
     "text": [
      "4301111it [20:00, 7032.98it/s]"
     ]
    },
    {
     "name": "stdout",
     "output_type": "stream",
     "text": [
      "Processed 4300000 examples, currently have 100668 samples\n"
     ]
    },
    {
     "name": "stderr",
     "output_type": "stream",
     "text": [
      "4400835it [22:49, 7031.38it/s]"
     ]
    },
    {
     "name": "stdout",
     "output_type": "stream",
     "text": [
      "Processed 4400000 examples, currently have 103000 samples\n"
     ]
    },
    {
     "name": "stderr",
     "output_type": "stream",
     "text": [
      "4500856it [23:04, 6993.38it/s]"
     ]
    },
    {
     "name": "stdout",
     "output_type": "stream",
     "text": [
      "Processed 4500000 examples, currently have 105363 samples\n"
     ]
    },
    {
     "name": "stderr",
     "output_type": "stream",
     "text": [
      "4601181it [23:18, 6861.84it/s]"
     ]
    },
    {
     "name": "stdout",
     "output_type": "stream",
     "text": [
      "Processed 4600000 examples, currently have 107768 samples\n"
     ]
    },
    {
     "name": "stderr",
     "output_type": "stream",
     "text": [
      "4701424it [27:15, 6870.48it/s]"
     ]
    },
    {
     "name": "stdout",
     "output_type": "stream",
     "text": [
      "Processed 4700000 examples, currently have 110193 samples\n"
     ]
    },
    {
     "name": "stderr",
     "output_type": "stream",
     "text": [
      "4801774it [27:30, 6630.78it/s]"
     ]
    },
    {
     "name": "stdout",
     "output_type": "stream",
     "text": [
      "Processed 4800000 examples, currently have 112612 samples\n"
     ]
    },
    {
     "name": "stderr",
     "output_type": "stream",
     "text": [
      "4900819it [27:45, 6850.52it/s]"
     ]
    },
    {
     "name": "stdout",
     "output_type": "stream",
     "text": [
      "Processed 4900000 examples, currently have 114927 samples\n"
     ]
    },
    {
     "name": "stderr",
     "output_type": "stream",
     "text": [
      "5001966it [28:00, 6779.86it/s]"
     ]
    },
    {
     "name": "stdout",
     "output_type": "stream",
     "text": [
      "Processed 5000000 examples, currently have 117333 samples\n"
     ]
    },
    {
     "name": "stderr",
     "output_type": "stream",
     "text": [
      "5100955it [28:15, 6685.65it/s]"
     ]
    },
    {
     "name": "stdout",
     "output_type": "stream",
     "text": [
      "Processed 5100000 examples, currently have 119635 samples\n"
     ]
    },
    {
     "name": "stderr",
     "output_type": "stream",
     "text": [
      "5201593it [28:29, 6839.06it/s]"
     ]
    },
    {
     "name": "stdout",
     "output_type": "stream",
     "text": [
      "Processed 5200000 examples, currently have 121862 samples\n"
     ]
    },
    {
     "name": "stderr",
     "output_type": "stream",
     "text": [
      "5301694it [28:44, 6876.05it/s]"
     ]
    },
    {
     "name": "stdout",
     "output_type": "stream",
     "text": [
      "Processed 5300000 examples, currently have 124208 samples\n"
     ]
    },
    {
     "name": "stderr",
     "output_type": "stream",
     "text": [
      "5400902it [28:58, 6816.23it/s]"
     ]
    },
    {
     "name": "stdout",
     "output_type": "stream",
     "text": [
      "Processed 5400000 examples, currently have 126537 samples\n"
     ]
    },
    {
     "name": "stderr",
     "output_type": "stream",
     "text": [
      "5501580it [29:13, 6840.32it/s]"
     ]
    },
    {
     "name": "stdout",
     "output_type": "stream",
     "text": [
      "Processed 5500000 examples, currently have 128892 samples\n"
     ]
    },
    {
     "name": "stderr",
     "output_type": "stream",
     "text": [
      "5600622it [32:09, 5042.57it/s]"
     ]
    },
    {
     "name": "stdout",
     "output_type": "stream",
     "text": [
      "Processed 5600000 examples, currently have 131238 samples\n"
     ]
    },
    {
     "name": "stderr",
     "output_type": "stream",
     "text": [
      "5700903it [32:26, 6768.52it/s]"
     ]
    },
    {
     "name": "stdout",
     "output_type": "stream",
     "text": [
      "Processed 5700000 examples, currently have 133559 samples\n"
     ]
    },
    {
     "name": "stderr",
     "output_type": "stream",
     "text": [
      "5801912it [32:41, 7021.94it/s]"
     ]
    },
    {
     "name": "stdout",
     "output_type": "stream",
     "text": [
      "Processed 5800000 examples, currently have 135940 samples\n"
     ]
    },
    {
     "name": "stderr",
     "output_type": "stream",
     "text": [
      "5901351it [32:55, 6804.63it/s]"
     ]
    },
    {
     "name": "stdout",
     "output_type": "stream",
     "text": [
      "Processed 5900000 examples, currently have 138269 samples\n"
     ]
    },
    {
     "name": "stderr",
     "output_type": "stream",
     "text": [
      "6001072it [33:10, 6902.25it/s]"
     ]
    },
    {
     "name": "stdout",
     "output_type": "stream",
     "text": [
      "Processed 6000000 examples, currently have 140617 samples\n"
     ]
    },
    {
     "name": "stderr",
     "output_type": "stream",
     "text": [
      "6101467it [33:25, 6896.83it/s]"
     ]
    },
    {
     "name": "stdout",
     "output_type": "stream",
     "text": [
      "Processed 6100000 examples, currently have 142880 samples\n"
     ]
    },
    {
     "name": "stderr",
     "output_type": "stream",
     "text": [
      "6201987it [33:39, 6807.85it/s]"
     ]
    },
    {
     "name": "stdout",
     "output_type": "stream",
     "text": [
      "Processed 6200000 examples, currently have 145206 samples\n"
     ]
    },
    {
     "name": "stderr",
     "output_type": "stream",
     "text": [
      "6301275it [33:54, 6859.87it/s]"
     ]
    },
    {
     "name": "stdout",
     "output_type": "stream",
     "text": [
      "Processed 6300000 examples, currently have 147550 samples\n"
     ]
    },
    {
     "name": "stderr",
     "output_type": "stream",
     "text": [
      "6401061it [34:29, 1517.64it/s]"
     ]
    },
    {
     "name": "stdout",
     "output_type": "stream",
     "text": [
      "Processed 6400000 examples, currently have 149880 samples\n"
     ]
    },
    {
     "name": "stderr",
     "output_type": "stream",
     "text": [
      "6500848it [35:57, 6900.37it/s]"
     ]
    },
    {
     "name": "stdout",
     "output_type": "stream",
     "text": [
      "Processed 6500000 examples, currently have 152177 samples\n"
     ]
    },
    {
     "name": "stderr",
     "output_type": "stream",
     "text": [
      "6600855it [36:54, 7075.60it/s]"
     ]
    },
    {
     "name": "stdout",
     "output_type": "stream",
     "text": [
      "Processed 6600000 examples, currently have 154531 samples\n"
     ]
    },
    {
     "name": "stderr",
     "output_type": "stream",
     "text": [
      "6678483it [37:49, 2943.30it/s]\n"
     ]
    }
   ],
   "source": [
    "# Load dataset and take a random sample of 100,000 rows\n",
    "sample_size = 100000\n",
    "\n",
    "ds = load_dataset('free-law/Caselaw_Access_Project', streaming=True, split='train')\n",
    "\n",
    "# Estimated rows (from HuggingFace)\n",
    "total_size = 4284276\n",
    "\n",
    "# Calculate sampling probability\n",
    "sample_size = 100_000\n",
    "sampling_prob = sample_size / total_size\n",
    "\n",
    "# Take reservoir sample\n",
    "sampled_data = []\n",
    "for i, example in tqdm(enumerate(ds)):\n",
    "    if random.random() < sampling_prob:\n",
    "        sampled_data.append(example)\n",
    "    \n",
    "    # Print progress periodically\n",
    "    if i % 100000 == 0:\n",
    "        print(f\"Processed {i} examples, currently have {len(sampled_data)} samples\")"
   ]
  },
  {
   "cell_type": "code",
   "execution_count": 41,
   "metadata": {},
   "outputs": [],
   "source": [
    "# Convert to pandas df\n",
    "df = pd.DataFrame(sampled_data)"
   ]
  },
  {
   "cell_type": "code",
   "execution_count": 42,
   "metadata": {},
   "outputs": [],
   "source": [
    "# Convert appropriate columns to numeric\n",
    "for col in df.columns:\n",
    "    try:\n",
    "        df[col] = pd.to_numeric(df[col])\n",
    "    except:\n",
    "        continue"
   ]
  },
  {
   "cell_type": "code",
   "execution_count": 43,
   "metadata": {},
   "outputs": [
    {
     "data": {
      "text/plain": [
       "(156374, 20)"
      ]
     },
     "execution_count": 43,
     "metadata": {},
     "output_type": "execute_result"
    }
   ],
   "source": [
    "df.shape"
   ]
  },
  {
   "cell_type": "markdown",
   "metadata": {},
   "source": [
    "Save data sample for future use without having to load again."
   ]
  },
  {
   "cell_type": "code",
   "execution_count": 46,
   "metadata": {},
   "outputs": [],
   "source": [
    "df.to_parquet('../data/caselaw_sample.parquet')"
   ]
  },
  {
   "cell_type": "markdown",
   "metadata": {},
   "source": [
    "### Exploratory analysis of the data."
   ]
  },
  {
   "cell_type": "markdown",
   "metadata": {},
   "source": [
    "#### Word Counts"
   ]
  },
  {
   "cell_type": "code",
   "execution_count": 47,
   "metadata": {},
   "outputs": [
    {
     "data": {
      "text/plain": [
       "count    156374.000000\n",
       "mean       1882.482567\n",
       "std        2730.854813\n",
       "min           5.000000\n",
       "25%         228.000000\n",
       "50%        1128.000000\n",
       "75%        2494.000000\n",
       "max      112016.000000\n",
       "Name: word_count, dtype: float64"
      ]
     },
     "execution_count": 47,
     "metadata": {},
     "output_type": "execute_result"
    }
   ],
   "source": [
    "# Interested in word count statistics\n",
    "df['word_count'].describe()"
   ]
  },
  {
   "cell_type": "code",
   "execution_count": 48,
   "metadata": {},
   "outputs": [
    {
     "data": {
      "text/plain": [
       "(80884, 20)"
      ]
     },
     "execution_count": 48,
     "metadata": {},
     "output_type": "execute_result"
    }
   ],
   "source": [
    "# Mean is around 1800 words, median is around 1100 words. Choosing cutoff of 1200.\n",
    "cutoff = 1200\n",
    "df_filtered = df.query(f'word_count < {cutoff}')\n",
    "df_filtered.shape"
   ]
  },
  {
   "cell_type": "code",
   "execution_count": 60,
   "metadata": {},
   "outputs": [
    {
     "data": {
      "text/plain": [
       "array([[<Axes: title={'center': 'word_count'}>]], dtype=object)"
      ]
     },
     "execution_count": 60,
     "metadata": {},
     "output_type": "execute_result"
    },
    {
     "data": {
      "image/png": "[encoded data removed]",
      "text/plain": [
       "<Figure size 640x480 with 1 Axes>"
      ]
     },
     "metadata": {},
     "output_type": "display_data"
    }
   ],
   "source": [
    "df_filtered.hist(column='word_count', bins=20)"
   ]
  },
  {
   "cell_type": "markdown",
   "metadata": {},
   "source": [
    "#### Court Types"
   ]
  },
  {
   "cell_type": "code",
   "execution_count": 80,
   "metadata": {},
   "outputs": [
    {
     "data": {
      "text/html": [
       "<div>\n",
       "<style scoped>\n",
       "    .dataframe tbody tr th:only-of-type {\n",
       "        vertical-align: middle;\n",
       "    }\n",
       "\n",
       "    .dataframe tbody tr th {\n",
       "        vertical-align: top;\n",
       "    }\n",
       "\n",
       "    .dataframe thead th {\n",
       "        text-align: right;\n",
       "    }\n",
       "</style>\n",
       "<table border=\"1\" class=\"dataframe\">\n",
       "  <thead>\n",
       "    <tr style=\"text-align: right;\">\n",
       "      <th></th>\n",
       "      <th>id</th>\n",
       "    </tr>\n",
       "    <tr>\n",
       "      <th>court</th>\n",
       "      <th></th>\n",
       "    </tr>\n",
       "  </thead>\n",
       "  <tbody>\n",
       "    <tr>\n",
       "      <th>New York Supreme Court, Appellate Division</th>\n",
       "      <td>15396</td>\n",
       "    </tr>\n",
       "    <tr>\n",
       "      <th>Supreme Court of the United States</th>\n",
       "      <td>7553</td>\n",
       "    </tr>\n",
       "    <tr>\n",
       "      <th>Florida District Court of Appeal</th>\n",
       "      <td>4842</td>\n",
       "    </tr>\n",
       "    <tr>\n",
       "      <th>Louisiana Supreme Court</th>\n",
       "      <td>3787</td>\n",
       "    </tr>\n",
       "    <tr>\n",
       "      <th>New York Court of Appeals</th>\n",
       "      <td>1898</td>\n",
       "    </tr>\n",
       "    <tr>\n",
       "      <th>United States Court of Appeals for the Ninth Circuit</th>\n",
       "      <td>1849</td>\n",
       "    </tr>\n",
       "    <tr>\n",
       "      <th>Court of Appeals of Georgia</th>\n",
       "      <td>1448</td>\n",
       "    </tr>\n",
       "    <tr>\n",
       "      <th>Supreme Court of Ohio</th>\n",
       "      <td>1438</td>\n",
       "    </tr>\n",
       "    <tr>\n",
       "      <th>United States Court of Appeals for the Fifth Circuit</th>\n",
       "      <td>1350</td>\n",
       "    </tr>\n",
       "    <tr>\n",
       "      <th>United States Court of Appeals for the Fourth Circuit</th>\n",
       "      <td>1225</td>\n",
       "    </tr>\n",
       "    <tr>\n",
       "      <th>Washington Court of Appeals</th>\n",
       "      <td>1184</td>\n",
       "    </tr>\n",
       "    <tr>\n",
       "      <th>Texas Court of Criminal Appeals</th>\n",
       "      <td>1125</td>\n",
       "    </tr>\n",
       "    <tr>\n",
       "      <th>Illinois Appellate Court</th>\n",
       "      <td>1085</td>\n",
       "    </tr>\n",
       "    <tr>\n",
       "      <th>Supreme Court of North Carolina</th>\n",
       "      <td>1071</td>\n",
       "    </tr>\n",
       "    <tr>\n",
       "      <th>Supreme Court of Pennsylvania</th>\n",
       "      <td>1064</td>\n",
       "    </tr>\n",
       "    <tr>\n",
       "      <th>Supreme Court of Georgia</th>\n",
       "      <td>1035</td>\n",
       "    </tr>\n",
       "    <tr>\n",
       "      <th>Superior Court of Pennsylvania</th>\n",
       "      <td>1015</td>\n",
       "    </tr>\n",
       "    <tr>\n",
       "      <th>United States Customs Court</th>\n",
       "      <td>948</td>\n",
       "    </tr>\n",
       "    <tr>\n",
       "      <th>Florida Supreme Court</th>\n",
       "      <td>926</td>\n",
       "    </tr>\n",
       "    <tr>\n",
       "      <th>New York Supreme Court</th>\n",
       "      <td>911</td>\n",
       "    </tr>\n",
       "    <tr>\n",
       "      <th>Missouri Court of Appeals</th>\n",
       "      <td>860</td>\n",
       "    </tr>\n",
       "    <tr>\n",
       "      <th>New York Supreme Court, General Term</th>\n",
       "      <td>852</td>\n",
       "    </tr>\n",
       "    <tr>\n",
       "      <th>Louisiana Court of Appeal</th>\n",
       "      <td>826</td>\n",
       "    </tr>\n",
       "    <tr>\n",
       "      <th>Kentucky Court of Appeals</th>\n",
       "      <td>816</td>\n",
       "    </tr>\n",
       "    <tr>\n",
       "      <th>Supreme Court of New Jersey</th>\n",
       "      <td>735</td>\n",
       "    </tr>\n",
       "    <tr>\n",
       "      <th>United States Court of Appeals for the Second Circuit</th>\n",
       "      <td>717</td>\n",
       "    </tr>\n",
       "    <tr>\n",
       "      <th>Texas Courts of Civil Appeals</th>\n",
       "      <td>601</td>\n",
       "    </tr>\n",
       "    <tr>\n",
       "      <th>Michigan Supreme Court</th>\n",
       "      <td>593</td>\n",
       "    </tr>\n",
       "    <tr>\n",
       "      <th>Massachusetts Supreme Judicial Court</th>\n",
       "      <td>593</td>\n",
       "    </tr>\n",
       "    <tr>\n",
       "      <th>Supreme Court of Puerto Rico</th>\n",
       "      <td>544</td>\n",
       "    </tr>\n",
       "    <tr>\n",
       "      <th>United States Court of Appeals for the Eighth Circuit</th>\n",
       "      <td>533</td>\n",
       "    </tr>\n",
       "    <tr>\n",
       "      <th>Supreme Court of Indiana</th>\n",
       "      <td>504</td>\n",
       "    </tr>\n",
       "  </tbody>\n",
       "</table>\n",
       "</div>"
      ],
      "text/plain": [
       "                                                       id\n",
       "court                                                    \n",
       "New York Supreme Court, Appellate Division          15396\n",
       "Supreme Court of the United States                   7553\n",
       "Florida District Court of Appeal                     4842\n",
       "Louisiana Supreme Court                              3787\n",
       "New York Court of Appeals                            1898\n",
       "United States Court of Appeals for the Ninth Ci...   1849\n",
       "Court of Appeals of Georgia                          1448\n",
       "Supreme Court of Ohio                                1438\n",
       "United States Court of Appeals for the Fifth Ci...   1350\n",
       "United States Court of Appeals for the Fourth C...   1225\n",
       "Washington Court of Appeals                          1184\n",
       "Texas Court of Criminal Appeals                      1125\n",
       "Illinois Appellate Court                             1085\n",
       "Supreme Court of North Carolina                      1071\n",
       "Supreme Court of Pennsylvania                        1064\n",
       "Supreme Court of Georgia                             1035\n",
       "Superior Court of Pennsylvania                       1015\n",
       "United States Customs Court                           948\n",
       "Florida Supreme Court                                 926\n",
       "New York Supreme Court                                911\n",
       "Missouri Court of Appeals                             860\n",
       "New York Supreme Court, General Term                  852\n",
       "Louisiana Court of Appeal                             826\n",
       "Kentucky Court of Appeals                             816\n",
       "Supreme Court of New Jersey                           735\n",
       "United States Court of Appeals for the Second C...    717\n",
       "Texas Courts of Civil Appeals                         601\n",
       "Michigan Supreme Court                                593\n",
       "Massachusetts Supreme Judicial Court                  593\n",
       "Supreme Court of Puerto Rico                          544\n",
       "United States Court of Appeals for the Eighth C...    533\n",
       "Supreme Court of Indiana                              504"
      ]
     },
     "execution_count": 80,
     "metadata": {},
     "output_type": "execute_result"
    }
   ],
   "source": [
    "# Look into the different courts that are present, statistics\n",
    "court_counts = df_filtered[['id', 'court']].groupby('court').count().sort_values('id', ascending=False)\n",
    "court_counts.query('id > 500')"
   ]
  },
  {
   "cell_type": "markdown",
   "metadata": {},
   "source": [
    "Types of courts seem to include:\n",
    "- Supreme Court of United States\n",
    "- United States Court of Appleas (for the ...th Circuit)\n",
    "- United States Customs Court\n",
    "- Supreme Court of [State]\n",
    "- Appellate Court / Court of Appeals / Court of Errors and Appeals\n",
    "- Superior Court\n",
    "- New York Supreme Court, General Term; New York Supreme Court, New York Supreme Court, Appllate Division\n",
    "- Court of Claims\n",
    "- United States Board of Tax Appeals\n",
    "- District Court\n",
    "- Other\n",
    "\n",
    "\n",
    "\n"
   ]
  },
  {
   "cell_type": "code",
   "execution_count": 108,
   "metadata": {},
   "outputs": [
    {
     "data": {
      "text/html": [
       "<div>\n",
       "<style scoped>\n",
       "    .dataframe tbody tr th:only-of-type {\n",
       "        vertical-align: middle;\n",
       "    }\n",
       "\n",
       "    .dataframe tbody tr th {\n",
       "        vertical-align: top;\n",
       "    }\n",
       "\n",
       "    .dataframe thead th {\n",
       "        text-align: right;\n",
       "    }\n",
       "</style>\n",
       "<table border=\"1\" class=\"dataframe\">\n",
       "  <thead>\n",
       "    <tr style=\"text-align: right;\">\n",
       "      <th></th>\n",
       "      <th>court</th>\n",
       "      <th>court_type</th>\n",
       "    </tr>\n",
       "  </thead>\n",
       "  <tbody>\n",
       "    <tr>\n",
       "      <th>8</th>\n",
       "      <td>Alaska Supreme Court</td>\n",
       "      <td>State Supreme Court</td>\n",
       "    </tr>\n",
       "    <tr>\n",
       "      <th>9</th>\n",
       "      <td>Alaska Supreme Court</td>\n",
       "      <td>State Supreme Court</td>\n",
       "    </tr>\n",
       "    <tr>\n",
       "      <th>10</th>\n",
       "      <td>Alaska Supreme Court</td>\n",
       "      <td>State Supreme Court</td>\n",
       "    </tr>\n",
       "    <tr>\n",
       "      <th>13</th>\n",
       "      <td>Alaska Supreme Court</td>\n",
       "      <td>State Supreme Court</td>\n",
       "    </tr>\n",
       "    <tr>\n",
       "      <th>22</th>\n",
       "      <td>Alaska Court of Appeals</td>\n",
       "      <td>Court of Appeals</td>\n",
       "    </tr>\n",
       "    <tr>\n",
       "      <th>...</th>\n",
       "      <td>...</td>\n",
       "      <td>...</td>\n",
       "    </tr>\n",
       "    <tr>\n",
       "      <th>156345</th>\n",
       "      <td>Supreme Court of Wyoming</td>\n",
       "      <td>State Supreme Court</td>\n",
       "    </tr>\n",
       "    <tr>\n",
       "      <th>156350</th>\n",
       "      <td>Supreme Court of Wyoming</td>\n",
       "      <td>State Supreme Court</td>\n",
       "    </tr>\n",
       "    <tr>\n",
       "      <th>156352</th>\n",
       "      <td>Supreme Court of Wyoming</td>\n",
       "      <td>State Supreme Court</td>\n",
       "    </tr>\n",
       "    <tr>\n",
       "      <th>156370</th>\n",
       "      <td>Supreme Court of Wyoming</td>\n",
       "      <td>State Supreme Court</td>\n",
       "    </tr>\n",
       "    <tr>\n",
       "      <th>156372</th>\n",
       "      <td>Supreme Court of Wyoming</td>\n",
       "      <td>State Supreme Court</td>\n",
       "    </tr>\n",
       "  </tbody>\n",
       "</table>\n",
       "<p>80884 rows × 2 columns</p>\n",
       "</div>"
      ],
      "text/plain": [
       "                           court           court_type\n",
       "8           Alaska Supreme Court  State Supreme Court\n",
       "9           Alaska Supreme Court  State Supreme Court\n",
       "10          Alaska Supreme Court  State Supreme Court\n",
       "13          Alaska Supreme Court  State Supreme Court\n",
       "22       Alaska Court of Appeals     Court of Appeals\n",
       "...                          ...                  ...\n",
       "156345  Supreme Court of Wyoming  State Supreme Court\n",
       "156350  Supreme Court of Wyoming  State Supreme Court\n",
       "156352  Supreme Court of Wyoming  State Supreme Court\n",
       "156370  Supreme Court of Wyoming  State Supreme Court\n",
       "156372  Supreme Court of Wyoming  State Supreme Court\n",
       "\n",
       "[80884 rows x 2 columns]"
      ]
     },
     "execution_count": 108,
     "metadata": {},
     "output_type": "execute_result"
    }
   ],
   "source": [
    "def court_type(court):\n",
    "    court = court.lower()\n",
    "    if 'supreme court of the united states' in court:\n",
    "        return 'Supreme Court of the United States'\n",
    "    if any(['court of appeals' in court, 'appellate court' in court, 'court of errors and appeals' in court] ):\n",
    "        return 'Court of Appeals'\n",
    "    if 'supreme' in court:\n",
    "        return 'State Supreme Court'\n",
    "    if 'district court' in court:\n",
    "        return 'District Court'\n",
    "    if 'superior' in court:\n",
    "        return 'Superior Court'\n",
    "    if 'court of claims' in court:\n",
    "        return 'Court of Claims'\n",
    "    if 'tax' in court:\n",
    "        return 'Tax Court'\n",
    "    if 'customs' in court:\n",
    "        return 'Customs Court'\n",
    "    return 'Other'\n",
    "\n",
    "df_filtered.loc[:, 'court_type'] = df_filtered.loc[:, 'court'].apply(court_type)\n",
    "df_filtered[['court', 'court_type']]"
   ]
  },
  {
   "cell_type": "code",
   "execution_count": 118,
   "metadata": {},
   "outputs": [
    {
     "name": "stdout",
     "output_type": "stream",
     "text": [
      "court_type\n",
      "State Supreme Court                   37651\n",
      "Court of Appeals                      18455\n",
      "Supreme Court of the United States     7553\n",
      "District Court                         7393\n",
      "Other                                  6483\n",
      "Superior Court                         1560\n",
      "Customs Court                          1041\n",
      "Court of Claims                         520\n",
      "Tax Court                               228\n",
      "Name: count, dtype: int64\n"
     ]
    },
    {
     "data": {
      "text/plain": [
       "<Axes: title={'center': 'Court Type Counts'}, ylabel='Frequency'>"
      ]
     },
     "execution_count": 118,
     "metadata": {},
     "output_type": "execute_result"
    },
    {
     "data": {
      "image/png": "[encoded data removed]",
      "text/plain": [
       "<Figure size 640x480 with 1 Axes>"
      ]
     },
     "metadata": {},
     "output_type": "display_data"
    }
   ],
   "source": [
    "df_courttype_counts = df_filtered.loc[:, 'court_type'].value_counts()\n",
    "print(df_courttype_counts)\n",
    "df_courttype_counts.plot.hist(title='Court Type Counts', edgecolor='black')"
   ]
  },
  {
   "cell_type": "markdown",
   "metadata": {},
   "source": [
    "#### Jurisdictions"
   ]
  },
  {
   "cell_type": "code",
   "execution_count": 122,
   "metadata": {},
   "outputs": [
    {
     "data": {
      "text/plain": [
       "jurisdiction\n",
       "Montana                     188\n",
       "District of Columbia        183\n",
       "Arizona                     161\n",
       "Delaware                    145\n",
       "Utah                        142\n",
       "New Mexico                  109\n",
       "Nevada                       98\n",
       "South Dakota                 88\n",
       "Idaho                        79\n",
       "North Dakota                 63\n",
       "Alaska                       47\n",
       "Wyoming                      24\n",
       "Tribal Jurisdictions         18\n",
       "Navajo Nation                12\n",
       "Virgin Islands               11\n",
       "Guam                          8\n",
       "Northern Mariana Islands      3\n",
       "Name: count, dtype: int64"
      ]
     },
     "execution_count": 122,
     "metadata": {},
     "output_type": "execute_result"
    }
   ],
   "source": [
    "# Look into the different jurisdictions that are present, statistics\n",
    "jurisdiction_counts = df_filtered.loc[:, 'jurisdiction'].value_counts().sort_values(ascending=False)\n"
   ]
  },
  {
   "cell_type": "code",
   "execution_count": 117,
   "metadata": {},
   "outputs": [
    {
     "data": {
      "text/plain": [
       "<Axes: title={'center': 'Jurisdiction Counts'}, ylabel='Frequency'>"
      ]
     },
     "execution_count": 117,
     "metadata": {},
     "output_type": "execute_result"
    },
    {
     "data": {
      "image/png": "[encoded data removed]",
      "text/plain": [
       "<Figure size 640x480 with 1 Axes>"
      ]
     },
     "metadata": {},
     "output_type": "display_data"
    }
   ],
   "source": [
    "jurisdiction_counts.plot.hist(title='Jurisdiction Counts', bins=15, edgecolor='black')"
   ]
  },
  {
   "cell_type": "markdown",
   "metadata": {},
   "source": [
    "We are omega unbalanced Jurisdictions. New York is the highest, even ahead of federal. Will definitely need to balance across states."
   ]
  },
  {
   "cell_type": "markdown",
   "metadata": {},
   "source": []
  }
 ],
 "metadata": {
  "kernelspec": {
   "display_name": "venv",
   "language": "python",
   "name": "python3"
  },
  "language_info": {
   "codemirror_mode": {
    "name": "ipython",
    "version": 3
   },
   "file_extension": ".py",
   "mimetype": "text/x-python",
   "name": "python",
   "nbconvert_exporter": "python",
   "pygments_lexer": "ipython3",
   "version": "3.11.5"
  }
 },
 "nbformat": 4,
 "nbformat_minor": 2
}
