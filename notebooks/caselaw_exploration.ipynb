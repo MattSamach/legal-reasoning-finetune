{
 "cells": [
  {
   "cell_type": "code",
   "execution_count": null,
   "metadata": {},
   "outputs": [],
   "source": [
    "from datasets import load_dataset, Value, ClassLabel\n",
    "import pandas as pd\n",
    "import numpy as np\n",
    "import random\n",
    "from tqdm import tqdm"
   ]
  },
  {
   "cell_type": "code",
   "execution_count": null,
   "metadata": {},
   "outputs": [],
   "source": [
    "# # Only need to run this once to download the dataset\n",
    "\n",
    "# # Load dataset and take a random sample of 100,000 rows\n",
    "# sample_size = 100000\n",
    "\n",
    "# ds = load_dataset('free-law/Caselaw_Access_Project', streaming=True, split='train')\n",
    "\n",
    "# # Estimated rows (from HuggingFace)\n",
    "# total_size = 4284276\n",
    "\n",
    "# # Calculate sampling probability\n",
    "# sample_size = 100_000\n",
    "# sampling_prob = sample_size / total_size\n",
    "\n",
    "# # Take reservoir sample\n",
    "# sampled_data = []\n",
    "# for i, example in tqdm(enumerate(ds)):\n",
    "#     if random.random() < sampling_prob:\n",
    "#         sampled_data.append(example)\n",
    "    \n",
    "#     # Print progress periodically\n",
    "#     if i % 100000 == 0:\n",
    "#         print(f\"Processed {i} examples, currently have {len(sampled_data)} samples\")"
   ]
  },
  {
   "cell_type": "code",
   "execution_count": null,
   "metadata": {},
   "outputs": [],
   "source": [
    "# Convert to pandas df\n",
    "df = pd.DataFrame(sampled_data)"
   ]
  },
  {
   "cell_type": "code",
   "execution_count": null,
   "metadata": {},
   "outputs": [],
   "source": [
    "# Convert appropriate columns to numeric\n",
    "for col in df.columns:\n",
    "    try:\n",
    "        df[col] = pd.to_numeric(df[col])\n",
    "    except:\n",
    "        continue"
   ]
  },
  {
   "cell_type": "code",
   "execution_count": null,
   "metadata": {},
   "outputs": [],
   "source": [
    "df.shape"
   ]
  },
  {
   "cell_type": "markdown",
   "metadata": {},
   "source": [
    "Save data sample for future use without having to load again."
   ]
  },
  {
   "cell_type": "code",
   "execution_count": null,
   "metadata": {},
   "outputs": [],
   "source": [
    "# Pick up from here\n",
    "# df.to_parquet('../data/caselaw_sample.parquet')\n",
    "df = pd.read_parquet('../data/caselaw_sample.parquet')"
   ]
  },
  {
   "cell_type": "markdown",
   "metadata": {},
   "source": [
    "### Exploratory analysis of the data."
   ]
  },
  {
   "cell_type": "markdown",
   "metadata": {},
   "source": [
    "#### Word Counts"
   ]
  },
  {
   "cell_type": "code",
   "execution_count": null,
   "metadata": {},
   "outputs": [],
   "source": [
    "# Interested in word count statistics\n",
    "df['word_count'].describe()"
   ]
  },
  {
   "cell_type": "code",
   "execution_count": null,
   "metadata": {},
   "outputs": [],
   "source": [
    "# Mean is around 1800 words, median is around 1100 words. Choosing cutoff of 1200.\n",
    "# New cutoffs between 5 pages and 10 pages (roughly 500 words per page)\n",
    "floor_cutoff = 500\n",
    "ceiling_cutoff = 5000\n",
    "df_filtered = df.query(f'word_count < {ceiling_cutoff} & word_count > {floor_cutoff}')\n",
    "df_filtered.shape"
   ]
  },
  {
   "cell_type": "code",
   "execution_count": null,
   "metadata": {},
   "outputs": [],
   "source": [
    "df_filtered.hist(column='word_count', bins=20, )"
   ]
  },
  {
   "cell_type": "markdown",
   "metadata": {},
   "source": [
    "#### Court Types"
   ]
  },
  {
   "cell_type": "code",
   "execution_count": null,
   "metadata": {},
   "outputs": [],
   "source": [
    "# Look into the different courts that are present, statistics\n",
    "court_counts = df_filtered['court'].value_counts()\n",
    "court_counts[court_counts>500]"
   ]
  },
  {
   "cell_type": "markdown",
   "metadata": {},
   "source": [
    "Types of courts seem to include:\n",
    "- Supreme Court of United States\n",
    "- United States Court of Appleas (for the ...th Circuit)\n",
    "- United States Customs Court\n",
    "- Supreme Court of [State]\n",
    "- Appellate Court / Court of Appeals / Court of Errors and Appeals\n",
    "- Superior Court\n",
    "- New York Supreme Court, General Term; New York Supreme Court, New York Supreme Court, Appellate Division\n",
    "- Court of Claims\n",
    "- United States Board of Tax Appeals\n",
    "- District Court\n",
    "- Other\n",
    "\n",
    "\n",
    "\n"
   ]
  },
  {
   "cell_type": "code",
   "execution_count": null,
   "metadata": {},
   "outputs": [],
   "source": [
    "# Omitted New York because of the ambiguity with the city\n",
    "state_names = [\n",
    "    \"Alaska\", \"Alabama\", \"Arkansas\", \"American Samoa\", \"Arizona\", \"California\", \"Colorado\", \"Connecticut\", \n",
    "    \"District of Columbia\", \"Washington D.C.\", \"Delaware\", \"Florida\", \"Georgia\", \"Guam\", \"Hawaii\", \"Iowa\", \n",
    "    \"Idaho\", \"Illinois\", \"Indiana\", \"Kansas\", \"Kentucky\", \"Louisiana\", \"Massachusetts\", \"Maryland\", \"Maine\", \n",
    "    \"Michigan\", \"Minnesota\", \"Missouri\", \"Mississippi\", \"Montana\", \"North Carolina\", \"North Dakota\", \n",
    "    \"Nebraska\", \"New Hampshire\", \"New Jersey\", \"New Mexico\", \"Nevada\", \"Ohio\", \"Oklahoma\", \n",
    "    \"Oregon\", \"Pennsylvania\", \"Puerto Rico\", \"Rhode Island\", \"South Carolina\", \"South Dakota\", \"Tennessee\", \n",
    "    \"Texas\", \"Utah\", \"Virginia\", \"Virgin Islands\", \"Vermont\", \"Washington\", \"Wisconsin\", \"West Virginia\", \"Wyoming\"\n",
    "]\n",
    "\n",
    "def get_court_type(court):\n",
    "    court = court.lower()\n",
    "    if 'united states' in court:\n",
    "        if 'supreme' in court:\n",
    "            return 'Supreme Court of the United States'\n",
    "        if any(['appeal' in court, 'appellate' in court]):\n",
    "            return 'Federal Court of Appeals'\n",
    "        else:\n",
    "            return 'Federal Court'\n",
    "    if any(['appeal' in court, 'appellate' in court, 'commonwealth court of pennsylvania' in court]):\n",
    "        if any([state.lower() in court for state in state_names]):\n",
    "            return 'State Court of Appeals'\n",
    "        elif any(['federal' in court, 'united states' in court, 'u.s.' in court]):\n",
    "            return 'Federal Court of Appeals'\n",
    "        else:\n",
    "            return 'Court of Appeals'\n",
    "    if 'supreme' in court:\n",
    "        return 'State Supreme Court'\n",
    "    if 'district court' in court:\n",
    "        return 'District Court'\n",
    "    if 'superior' in court:\n",
    "        return 'Superior Court'\n",
    "    if 'court of claims' in court:\n",
    "        return 'Court of Claims'\n",
    "    if 'tax' in court:\n",
    "        return 'Tax Court'\n",
    "    if 'customs' in court:\n",
    "        return 'Customs Court'\n",
    "    if 'common pleas' in court:\n",
    "        return 'Common Pleas Court'\n",
    "    if 'circuit court' in court:\n",
    "        return 'Circuit Court'\n",
    "    if 'bankruptcy' in court:\n",
    "        return 'Bankruptcy Court'\n",
    "    if 'chancery' in court:\n",
    "        return 'Chancery Court'\n",
    "    if 'city court' in court:\n",
    "        return 'City Court'\n",
    "    if 'county court' in court:\n",
    "        return 'County Court'\n",
    "    return 'Other'\n",
    "\n",
    "df_filtered.loc[:, 'court_type'] = df_filtered.loc[:, 'court'].apply(get_court_type)"
   ]
  },
  {
   "cell_type": "code",
   "execution_count": null,
   "metadata": {},
   "outputs": [],
   "source": [
    "df_courttype_counts = df_filtered.loc[:, 'court_type'].value_counts()\n",
    "print(df_courttype_counts)\n",
    "df_courttype_counts.plot.hist(title='Court Type Counts', edgecolor='black')\n",
    "\n",
    "# Look into state vs federal appeals / district courts"
   ]
  },
  {
   "cell_type": "markdown",
   "metadata": {},
   "source": [
    "#### Jurisdictions"
   ]
  },
  {
   "cell_type": "code",
   "execution_count": null,
   "metadata": {},
   "outputs": [],
   "source": [
    "# Look into the different jurisdictions that are present, statistics\n",
    "jurisdiction_counts = df_filtered.loc[:, 'jurisdiction'].value_counts().sort_values(ascending=False)\n",
    "jurisdiction_counts"
   ]
  },
  {
   "cell_type": "code",
   "execution_count": null,
   "metadata": {},
   "outputs": [],
   "source": [
    "jurisdiction_counts.plot.hist(title='Jurisdiction Counts', bins=15, edgecolor='black')"
   ]
  },
  {
   "cell_type": "markdown",
   "metadata": {},
   "source": [
    "#### Balanced dataset creation"
   ]
  },
  {
   "cell_type": "code",
   "execution_count": null,
   "metadata": {},
   "outputs": [],
   "source": [
    "df_filtered.loc[:, 'court_type_jurisdiction'] = df_filtered.apply(lambda x: f\"{x['court_type']} - {x['jurisdiction']}\", axis=1)\n",
    "df_courttype_jurisdiction_counts = df_filtered.loc[:, 'court_type_jurisdiction'].value_counts()\n",
    "df_courttype_jurisdiction_counts.plot.hist(title='Court Type - Jurisdiction Counts', bins=15, edgecolor='black')"
   ]
  },
  {
   "cell_type": "code",
   "execution_count": null,
   "metadata": {},
   "outputs": [],
   "source": [
    "# Zoomed in histogram\n",
    "df_courttype_jurisdiction_counts.loc[df_courttype_jurisdiction_counts < 2500].plot.hist(title='Court Type - Jurisdiction Counts (Zoomed In)', bins=20, edgecolor='black')"
   ]
  },
  {
   "cell_type": "code",
   "execution_count": null,
   "metadata": {},
   "outputs": [],
   "source": [
    "df_courttype_jurisdiction_counts.head()"
   ]
  },
  {
   "cell_type": "code",
   "execution_count": null,
   "metadata": {},
   "outputs": [],
   "source": [
    "# Exploring cutoffs\n",
    "cutoffs = [10, 50, 100, 250, 500]\n",
    "# Scaler used to estimate number of raw counts in full dataset\n",
    "total_size = 4_284_276\n",
    "scaler = total_size / df_filtered.shape[0]\n",
    "\n",
    "\n",
    "for cutoff in cutoffs:\n",
    "    print(f\"Number of combos over {cutoff}: {df_courttype_jurisdiction_counts.loc[df_courttype_jurisdiction_counts > cutoff].shape[0]}\")\n",
    "    print(f\"Number of combos under {cutoff}: {df_courttype_jurisdiction_counts.loc[df_courttype_jurisdiction_counts <= cutoff].shape[0]}\")\n",
    "    print(f\"Estimated raw count above  {cutoff}: {int(round(df_courttype_jurisdiction_counts.loc[df_courttype_jurisdiction_counts > cutoff].sum() * scaler, -3))}\")\n",
    "    print(f\"Estimated raw count below {cutoff}: {int(round(df_courttype_jurisdiction_counts.loc[df_courttype_jurisdiction_counts <= cutoff].sum() * scaler, -3))}\")\n",
    "    print(f\"Estimated raw percent below {cutoff}: {round(df_courttype_jurisdiction_counts.loc[df_courttype_jurisdiction_counts <= cutoff].sum() * scaler / total_size * 100, 2)}\")\n",
    "    print('---------------------------------------------')"
   ]
  },
  {
   "cell_type": "markdown",
   "metadata": {},
   "source": [
    "Planning on using a cutoff of 50 as the \"other\" category in my sampler."
   ]
  },
  {
   "cell_type": "code",
   "execution_count": null,
   "metadata": {},
   "outputs": [],
   "source": [
    "# Save the list of court type - jurisdiction combos with more than 10 counts\n",
    "main = list(df_courttype_jurisdiction_counts[df_courttype_jurisdiction_counts > 10].index)\n",
    "with open('../data/main_courttype_jurisdiction_combos.txt', 'w') as f:\n",
    "    for item in main:\n",
    "        f.write(f\"{item}\\n\")"
   ]
  },
  {
   "cell_type": "code",
   "execution_count": null,
   "metadata": {},
   "outputs": [],
   "source": [
    "courttype_jurisdictions = main + ['Other']\n",
    "len(courttype_jurisdictions)"
   ]
  },
  {
   "cell_type": "markdown",
   "metadata": {},
   "source": [
    "# Make balanced, stratified sample of full data"
   ]
  },
  {
   "cell_type": "code",
   "execution_count": null,
   "metadata": {},
   "outputs": [],
   "source": [
    "ds = load_dataset('free-law/Caselaw_Access_Project', split='train')"
   ]
  },
  {
   "cell_type": "code",
   "execution_count": null,
   "metadata": {},
   "outputs": [],
   "source": [
    "ds = ds.remove_columns(['first_page', 'last_page', 'volume', 'last_updated', 'provenance', 'judges', 'parties', 'head_matter', 'char_count'])"
   ]
  },
  {
   "cell_type": "code",
   "execution_count": null,
   "metadata": {},
   "outputs": [],
   "source": [
    "ds = ds.filter(lambda x: x['word_count'] != '')"
   ]
  },
  {
   "cell_type": "code",
   "execution_count": null,
   "metadata": {},
   "outputs": [],
   "source": [
    "features = ds.features\n",
    "new_features = features.copy()\n",
    "new_features['word_count'] = Value(\"int64\")\n",
    "ds = ds.cast(new_features)"
   ]
  },
  {
   "cell_type": "code",
   "execution_count": null,
   "metadata": {},
   "outputs": [],
   "source": [
    "ds = ds.filter(lambda x: x['word_count'] > floor_cutoff and x['word_count'] < ceiling_cutoff)"
   ]
  },
  {
   "cell_type": "code",
   "execution_count": 178,
   "metadata": {},
   "outputs": [
    {
     "data": {
      "text/plain": [
       "['id',\n",
       " 'name',\n",
       " 'name_abbreviation',\n",
       " 'decision_date',\n",
       " 'docket_number',\n",
       " 'citations',\n",
       " 'reporter',\n",
       " 'court',\n",
       " 'jurisdiction',\n",
       " 'word_count',\n",
       " 'text']"
      ]
     },
     "execution_count": 178,
     "metadata": {},
     "output_type": "execute_result"
    }
   ],
   "source": [
    "ds.column_names"
   ]
  },
  {
   "cell_type": "code",
   "execution_count": null,
   "metadata": {},
   "outputs": [],
   "source": [
    "with open('../data/main_courttype_jurisdiction_combos.txt', 'r') as f:\n",
    "    main = f.read().splitlines()\n",
    "\n",
    "def get_courttype_jurisdiction(example):\n",
    "    court = example['court']\n",
    "    jurisdiction = example['jurisdiction']\n",
    "    court_type = get_court_type(court)\n",
    "    combo = f\"{court_type} - {jurisdiction}\"\n",
    "    if combo not in main:\n",
    "        return 'Other'\n",
    "    return combo\n",
    "\n",
    "ds = ds.map(lambda x: {'court_type_jurisdiction': get_courttype_jurisdiction(x)}, num_proc=4)"
   ]
  },
  {
   "cell_type": "code",
   "execution_count": null,
   "metadata": {},
   "outputs": [
    {
     "data": {
      "text/plain": [
       "142"
      ]
     },
     "execution_count": 17,
     "metadata": {},
     "output_type": "execute_result"
    }
   ],
   "source": [
    "court_type_jurisdictions_unique = list(set(ds['court_type_jurisdiction']))\n",
    "len(court_type_jurisdictions_unique)"
   ]
  },
  {
   "cell_type": "code",
   "execution_count": null,
   "metadata": {},
   "outputs": [],
   "source": [
    "new_features = ds.features.copy()\n",
    "new_features['court_type_jurisdiction'] = ClassLabel(names=court_type_jurisdictions_unique)\n",
    "ds = ds.cast(new_features, num_proc=4)"
   ]
  },
  {
   "cell_type": "code",
   "execution_count": null,
   "metadata": {},
   "outputs": [],
   "source": [
    "# Shuffle the dataset, but write to disk using flatten_indices to speed up\n",
    "ds = ds.shuffle(seed=42)"
   ]
  },
  {
   "cell_type": "code",
   "execution_count": null,
   "metadata": {},
   "outputs": [],
   "source": [
    "ds = ds.flatten_indices(num_proc=4)"
   ]
  },
  {
   "cell_type": "code",
   "execution_count": null,
   "metadata": {},
   "outputs": [],
   "source": [
    "ds.shape"
   ]
  },
  {
   "cell_type": "code",
   "execution_count": null,
   "metadata": {},
   "outputs": [
    {
     "data": {
      "text/plain": [
       "IterableDataset({\n",
       "    features: Unknown,\n",
       "    num_shards: 58\n",
       "})"
      ]
     },
     "execution_count": 28,
     "metadata": {},
     "output_type": "execute_result"
    }
   ],
   "source": [
    "from collections import defaultdict\n",
    "\n",
    "sample_target = 500_000 # Target size of sampled dataset\n",
    "class_target = sample_target // len(court_type_jurisdictions_unique) # Target size of each class\n",
    "\n",
    "samples_dict = defaultdict(int)\n",
    "sampled_indices = []\n",
    "\n",
    "def check_sample(cls, id):\n",
    "    if samples_dict[cls] < class_target:\n",
    "        samples_dict[cls] += 1\n",
    "        sampled_indices.append(id)\n",
    "\n",
    "ds.map(lambda x: check_sample(x['court_type_jurisdiction'], x['id']), num_proc=4"
   ]
  },
  {
   "cell_type": "code",
   "execution_count": null,
   "metadata": {},
   "outputs": [],
   "source": [
    "balanced_ds = ds.filter(lambda x: x['id'] in sampled_indices, num_proc=4)"
   ]
  },
  {
   "cell_type": "code",
   "execution_count": null,
   "metadata": {},
   "outputs": [
    {
     "ename": "AttributeError",
     "evalue": "'IterableDataset' object has no attribute 'to_parquet'",
     "output_type": "error",
     "traceback": [
      "\u001b[0;31m---------------------------------------------------------------------------\u001b[0m",
      "\u001b[0;31mAttributeError\u001b[0m                            Traceback (most recent call last)",
      "Cell \u001b[0;32mIn[31], line 1\u001b[0m\n\u001b[0;32m----> 1\u001b[0m \u001b[43mbalanced_ds\u001b[49m\u001b[38;5;241;43m.\u001b[39;49m\u001b[43mto_parquet\u001b[49m(\u001b[38;5;124m'\u001b[39m\u001b[38;5;124m../data/caselaw_balanced_1.parquet\u001b[39m\u001b[38;5;124m'\u001b[39m)\n",
      "\u001b[0;31mAttributeError\u001b[0m: 'IterableDataset' object has no attribute 'to_parquet'"
     ]
    }
   ],
   "source": [
    "balanced_ds.shape\n",
    "balanced_ds.to_parquet('../data/caselaw_balanced_1.parquet')"
   ]
  },
  {
   "cell_type": "markdown",
   "metadata": {},
   "source": [
    "## Load and analyze new set"
   ]
  },
  {
   "cell_type": "code",
   "execution_count": 134,
   "metadata": {},
   "outputs": [
    {
     "data": {
      "text/plain": [
       "court_type\n",
       "State Supreme Court                   170731\n",
       "State Court of Appeals                133008\n",
       "Superior Court                         26587\n",
       "Other                                  14334\n",
       "Circuit Court                          11437\n",
       "Common Pleas Court                     11316\n",
       "Chancery Court                          8819\n",
       "Court of Appeals                        8224\n",
       "Court of Claims                         7703\n",
       "Federal Court of Appeals                7063\n",
       "County Court                            6912\n",
       "Federal Court                           4021\n",
       "City Court                              3569\n",
       "Supreme Court of the United States      3521\n",
       "District Court                          3375\n",
       "Tax Court                               2734\n",
       "Name: count, dtype: int64"
      ]
     },
     "execution_count": 134,
     "metadata": {},
     "output_type": "execute_result"
    }
   ],
   "source": [
    "# Analyze by court types\n",
    "balanced_df = pd.read_parquet('../data/caselaw_balanced_1.parquet')\n",
    "balanced_df['court_type'] = balanced_df.court.apply(get_court_type)\n",
    "balanced_df.court_type.value_counts()"
   ]
  },
  {
   "cell_type": "code",
   "execution_count": 135,
   "metadata": {},
   "outputs": [
    {
     "data": {
      "text/plain": [
       "jurisdiction\n",
       "New York                    30676\n",
       "Pennsylvania                20086\n",
       "New Jersey                  17388\n",
       "Ohio                        16721\n",
       "Connecticut                 12049\n",
       "United States               11087\n",
       "Massachusetts               10772\n",
       "Virginia                    10768\n",
       "Illinois                    10617\n",
       "Missouri                    10563\n",
       "Florida                     10445\n",
       "Delaware                    10236\n",
       "South Carolina               8735\n",
       "Oregon                       8279\n",
       "District of Columbia         8032\n",
       "Indiana                      7694\n",
       "Oklahoma                     7529\n",
       "Tennessee                    7209\n",
       "California                   7200\n",
       "North Carolina               7164\n",
       "Georgia                      7143\n",
       "Michigan                     7134\n",
       "Kentucky                     7118\n",
       "Louisiana                    7118\n",
       "Arkansas                     7112\n",
       "Mississippi                  7084\n",
       "Arizona                      7060\n",
       "Colorado                     7051\n",
       "Texas                        7050\n",
       "Wisconsin                    7042\n",
       "Washington                   7042\n",
       "Idaho                        7042\n",
       "Kansas                       7042\n",
       "Minnesota                    7042\n",
       "New Mexico                   7042\n",
       "Utah                         7042\n",
       "Alaska                       6567\n",
       "Iowa                         6467\n",
       "New Hampshire                6337\n",
       "Puerto Rico                  5677\n",
       "West Virginia                5273\n",
       "Nebraska                     4751\n",
       "Hawaii                       4674\n",
       "Rhode Island                 4597\n",
       "Maryland                     4408\n",
       "North Dakota                 3547\n",
       "Nevada                       3525\n",
       "Vermont                      3524\n",
       "South Dakota                 3521\n",
       "Maine                        3521\n",
       "Montana                      3521\n",
       "Wyoming                      3521\n",
       "Virgin Islands               2403\n",
       "Navajo Nation                 617\n",
       "Tribal Jurisdictions          310\n",
       "Northern Mariana Islands      121\n",
       "Guam                           58\n",
       "Name: count, dtype: int64"
      ]
     },
     "execution_count": 135,
     "metadata": {},
     "output_type": "execute_result"
    }
   ],
   "source": [
    "# Analyze by jurisdictions\n",
    "balanced_df.jurisdiction.value_counts()"
   ]
  },
  {
   "cell_type": "code",
   "execution_count": null,
   "metadata": {},
   "outputs": [],
   "source": [
    "from random import choices\n",
    "from collections import defaultdict\n",
    "\n",
    "def down_sampler(df, target_size, column, column_value, group_by_column):\n",
    "    \"\"\" Down samples the dataframe to the target size for a specific column value. \n",
    "        Prob of removal is proportional to size of other column values.\n",
    "        \n",
    "        Args:\n",
    "            df: DataFrame to downsample\n",
    "            target_size: Target size of downsampled dataframe\n",
    "            column: Column to filter on\n",
    "            column_value: Value to filter on\n",
    "            group_by_column: Column to group by for downsampling\n",
    "    \"\"\"\n",
    "    df1 = df.loc[df[column] == column_value, :].sample(frac=1, random_state=42)\n",
    "    unique_values = list(df1[group_by_column].unique())\n",
    "    value_counter = [df1.loc[df1[group_by_column] == val].shape[0] for val in unique_values]\n",
    "    num_removes = df1.shape[0] - target_size\n",
    "    \n",
    "    removal_counts = defaultdict(int)\n",
    "    while num_removes > 0:\n",
    "        idx = choices(range(len(value_counter)), weights=value_counter)[0]\n",
    "        value_counter[idx] -= 1\n",
    "        removal_counts[unique_values[idx]] += 1\n",
    "        num_removes -= 1\n",
    "        \n",
    "    # Remove samples by index\n",
    "    for val, count in removal_counts.items():\n",
    "        drop_indices = df1.loc[df1[group_by_column] == val].index[:count]\n",
    "        df1 = df1.drop(drop_indices)\n",
    "        \n",
    "    # Recombine downsampled dataframe with original\n",
    "    df_remaining = df.loc[df[column] != column_value, :]\n",
    "    df_downsampled = pd.concat([df_remaining, df1])\n",
    "    \n",
    "    return df_downsampled\n",
    "\n",
    "def down_sample_looper(df, target_size, column, column_values, group_by_column):\n",
    "    \"\"\" Loops through values of a column and downsamples each one to the target size. \"\"\"\n",
    "    df_downsampled = df.copy()\n",
    "    for value in column_values:\n",
    "        if df_downsampled.loc[df_downsampled[column] == value].shape[0] > target_size:\n",
    "            df_downsampled = down_sampler(df_downsampled, target_size, column, value, group_by_column)\n",
    "    return df_downsampled\n"
   ]
  },
  {
   "cell_type": "code",
   "execution_count": 148,
   "metadata": {},
   "outputs": [
    {
     "data": {
      "text/plain": [
       "jurisdiction\n",
       "Delaware                    10000\n",
       "Pennsylvania                10000\n",
       "United States               10000\n",
       "Missouri                    10000\n",
       "New York                    10000\n",
       "Virginia                    10000\n",
       "Florida                     10000\n",
       "New Jersey                  10000\n",
       "Massachusetts               10000\n",
       "Ohio                        10000\n",
       "Illinois                    10000\n",
       "Connecticut                 10000\n",
       "South Carolina               8735\n",
       "Oregon                       8279\n",
       "District of Columbia         8032\n",
       "Indiana                      7694\n",
       "Oklahoma                     7529\n",
       "Tennessee                    7209\n",
       "California                   7200\n",
       "North Carolina               7164\n",
       "Georgia                      7143\n",
       "Michigan                     7134\n",
       "Kentucky                     7118\n",
       "Louisiana                    7118\n",
       "Arkansas                     7112\n",
       "Mississippi                  7084\n",
       "Arizona                      7060\n",
       "Colorado                     7051\n",
       "Texas                        7050\n",
       "Wisconsin                    7042\n",
       "Idaho                        7042\n",
       "Minnesota                    7042\n",
       "Utah                         7042\n",
       "Washington                   7042\n",
       "Kansas                       7042\n",
       "New Mexico                   7042\n",
       "Alaska                       6567\n",
       "Iowa                         6467\n",
       "New Hampshire                6337\n",
       "Puerto Rico                  5677\n",
       "West Virginia                5273\n",
       "Nebraska                     4751\n",
       "Hawaii                       4674\n",
       "Rhode Island                 4597\n",
       "Maryland                     4408\n",
       "North Dakota                 3547\n",
       "Nevada                       3525\n",
       "Vermont                      3524\n",
       "Maine                        3521\n",
       "Wyoming                      3521\n",
       "Montana                      3521\n",
       "South Dakota                 3521\n",
       "Virgin Islands               2403\n",
       "Navajo Nation                 617\n",
       "Tribal Jurisdictions          310\n",
       "Northern Mariana Islands      121\n",
       "Guam                           58\n",
       "Name: count, dtype: int64"
      ]
     },
     "execution_count": 148,
     "metadata": {},
     "output_type": "execute_result"
    }
   ],
   "source": [
    "max_jurisdiction_size = 10_000\n",
    "jurisdiction_list = list(jur for jur in balanced_df.jurisdiction.unique() if balanced_df.loc[balanced_df.jurisdiction == jur].shape[0] > max_jurisdiction_size)\n",
    "downsampled_jurisdiction_df = down_sample_looper(balanced_df, max_jurisdiction_size, 'jurisdiction', jurisdiction_list, 'court_type')\n",
    "downsampled_jurisdiction_df.jurisdiction.value_counts()"
   ]
  },
  {
   "cell_type": "markdown",
   "metadata": {},
   "source": [
    "Seems a lot more reasonable in terms of jurisdiction balance. Let's look at court type."
   ]
  },
  {
   "cell_type": "code",
   "execution_count": 152,
   "metadata": {},
   "outputs": [
    {
     "data": {
      "text/plain": [
       "371946"
      ]
     },
     "execution_count": 152,
     "metadata": {},
     "output_type": "execute_result"
    }
   ],
   "source": [
    "downsampled_jurisdiction_df.shape[0]"
   ]
  },
  {
   "cell_type": "code",
   "execution_count": 151,
   "metadata": {},
   "outputs": [
    {
     "data": {
      "text/plain": [
       "court_type\n",
       "State Supreme Court                   161933\n",
       "State Court of Appeals                126681\n",
       "Superior Court                         19709\n",
       "Circuit Court                           9435\n",
       "Other                                   8835\n",
       "Federal Court of Appeals                6711\n",
       "Court of Claims                         5914\n",
       "Common Pleas Court                      5662\n",
       "Chancery Court                          5591\n",
       "Court of Appeals                        5587\n",
       "Federal Court                           3638\n",
       "Supreme Court of the United States      3197\n",
       "County Court                            2972\n",
       "District Court                          2538\n",
       "Tax Court                               2336\n",
       "City Court                              1207\n",
       "Name: count, dtype: int64"
      ]
     },
     "execution_count": 151,
     "metadata": {},
     "output_type": "execute_result"
    }
   ],
   "source": [
    "downsampled_jurisdiction_df.court_type.value_counts()"
   ]
  },
  {
   "cell_type": "markdown",
   "metadata": {},
   "source": [
    "Still very unbalanced in terms of court type. Let's downsample again."
   ]
  },
  {
   "cell_type": "code",
   "execution_count": 167,
   "metadata": {},
   "outputs": [
    {
     "data": {
      "text/plain": [
       "jurisdiction\n",
       "United States               9992\n",
       "New York                    9191\n",
       "Pennsylvania                7721\n",
       "Delaware                    7613\n",
       "New Jersey                  7374\n",
       "Ohio                        7252\n",
       "Connecticut                 6192\n",
       "Massachusetts               5768\n",
       "Virginia                    5720\n",
       "Illinois                    5696\n",
       "Missouri                    5666\n",
       "Florida                     5658\n",
       "District of Columbia        5244\n",
       "South Carolina              4181\n",
       "New Hampshire               3900\n",
       "Oregon                      3767\n",
       "Indiana                     3172\n",
       "West Virginia               3163\n",
       "Oklahoma                    2976\n",
       "Alaska                      2792\n",
       "California                  2668\n",
       "Tennessee                   2665\n",
       "Georgia                     2611\n",
       "Kentucky                    2587\n",
       "Michigan                    2575\n",
       "Arkansas                    2573\n",
       "Minnesota                   2524\n",
       "Texas                       2521\n",
       "Colorado                    2514\n",
       "North Carolina              2513\n",
       "Washington                  2501\n",
       "Louisiana                   2497\n",
       "Mississippi                 2492\n",
       "Idaho                       2477\n",
       "New Mexico                  2467\n",
       "Arizona                     2460\n",
       "Wisconsin                   2452\n",
       "Kansas                      2446\n",
       "Utah                        2417\n",
       "Virgin Islands              2349\n",
       "Maryland                    2275\n",
       "Iowa                        2261\n",
       "Rhode Island                2178\n",
       "Puerto Rico                 1923\n",
       "Nebraska                    1547\n",
       "Hawaii                      1534\n",
       "North Dakota                1117\n",
       "Nevada                      1104\n",
       "Wyoming                     1095\n",
       "Maine                       1086\n",
       "South Dakota                1082\n",
       "Vermont                     1072\n",
       "Montana                     1056\n",
       "Tribal Jurisdictions         292\n",
       "Navajo Nation                236\n",
       "Northern Mariana Islands      69\n",
       "Guam                          58\n",
       "Name: count, dtype: int64"
      ]
     },
     "execution_count": 167,
     "metadata": {},
     "output_type": "execute_result"
    }
   ],
   "source": [
    "downsampled_court_type_df.jurisdiction.value_counts()"
   ]
  },
  {
   "cell_type": "code",
   "execution_count": 160,
   "metadata": {},
   "outputs": [
    {
     "data": {
      "text/plain": [
       "court_type\n",
       "State Court of Appeals                50000\n",
       "State Supreme Court                   50000\n",
       "Superior Court                        19709\n",
       "Circuit Court                          9435\n",
       "Other                                  8835\n",
       "Federal Court of Appeals               6711\n",
       "Court of Claims                        5914\n",
       "Common Pleas Court                     5662\n",
       "Chancery Court                         5591\n",
       "Court of Appeals                       5587\n",
       "Federal Court                          3638\n",
       "Supreme Court of the United States     3197\n",
       "County Court                           2972\n",
       "District Court                         2538\n",
       "Tax Court                              2336\n",
       "City Court                             1207\n",
       "Name: count, dtype: int64"
      ]
     },
     "execution_count": 160,
     "metadata": {},
     "output_type": "execute_result"
    }
   ],
   "source": [
    "# Impose limit of 70,000 samples per court type\n",
    "max_court_type_size = 50_000\n",
    "court_type_list = list(court for court in downsampled_jurisdiction_df.court_type.unique() if downsampled_jurisdiction_df.loc[downsampled_jurisdiction_df.court_type == court].shape[0] > max_court_type_size)\n",
    "downsampled_court_type_df = down_sample_looper(downsampled_jurisdiction_df, max_court_type_size, 'court_type', court_type_list, 'jurisdiction')\n",
    "downsampled_court_type_df.court_type.value_counts()"
   ]
  },
  {
   "cell_type": "code",
   "execution_count": 166,
   "metadata": {},
   "outputs": [
    {
     "data": {
      "text/plain": [
       "183332"
      ]
     },
     "execution_count": 166,
     "metadata": {},
     "output_type": "execute_result"
    }
   ],
   "source": [
    "downsampled_court_type_df.shape[0]"
   ]
  },
  {
   "cell_type": "markdown",
   "metadata": {},
   "source": [
    "Calling it there."
   ]
  },
  {
   "cell_type": "code",
   "execution_count": 168,
   "metadata": {},
   "outputs": [],
   "source": [
    "# Save the balanced dataset\n",
    "downsampled_court_type_df.to_parquet('../data/caselaw_downsampled.parquet')"
   ]
  }
 ],
 "metadata": {
  "kernelspec": {
   "display_name": "venv",
   "language": "python",
   "name": "python3"
  },
  "language_info": {
   "codemirror_mode": {
    "name": "ipython",
    "version": 3
   },
   "file_extension": ".py",
   "mimetype": "text/x-python",
   "name": "python",
   "nbconvert_exporter": "python",
   "pygments_lexer": "ipython3",
   "version": "3.11.5"
  }
 },
 "nbformat": 4,
 "nbformat_minor": 2
}
