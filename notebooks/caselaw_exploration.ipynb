{
 "cells": [
  {
   "cell_type": "code",
   "execution_count": 196,
   "metadata": {},
   "outputs": [],
   "source": [
    "from datasets import load_dataset, Value, ClassLabel\n",
    "import pandas as pd\n",
    "import numpy as np\n",
    "import random\n",
    "from tqdm import tqdm"
   ]
  },
  {
   "cell_type": "code",
   "execution_count": 197,
   "metadata": {},
   "outputs": [],
   "source": [
    "# # Only need to run this once to download the dataset\n",
    "\n",
    "# # Load dataset and take a random sample of 100,000 rows\n",
    "# sample_size = 100000\n",
    "\n",
    "# ds = load_dataset('free-law/Caselaw_Access_Project', streaming=True, split='train')\n",
    "\n",
    "# # Estimated rows (from HuggingFace)\n",
    "# total_size = 4284276\n",
    "\n",
    "# # Calculate sampling probability\n",
    "# sample_size = 100_000\n",
    "# sampling_prob = sample_size / total_size\n",
    "\n",
    "# # Take reservoir sample\n",
    "# sampled_data = []\n",
    "# for i, example in tqdm(enumerate(ds)):\n",
    "#     if random.random() < sampling_prob:\n",
    "#         sampled_data.append(example)\n",
    "    \n",
    "#     # Print progress periodically\n",
    "#     if i % 100000 == 0:\n",
    "#         print(f\"Processed {i} examples, currently have {len(sampled_data)} samples\")"
   ]
  },
  {
   "cell_type": "code",
   "execution_count": 41,
   "metadata": {},
   "outputs": [],
   "source": [
    "# Convert to pandas df\n",
    "df = pd.DataFrame(sampled_data)"
   ]
  },
  {
   "cell_type": "code",
   "execution_count": 42,
   "metadata": {},
   "outputs": [],
   "source": [
    "# Convert appropriate columns to numeric\n",
    "for col in df.columns:\n",
    "    try:\n",
    "        df[col] = pd.to_numeric(df[col])\n",
    "    except:\n",
    "        continue"
   ]
  },
  {
   "cell_type": "code",
   "execution_count": 43,
   "metadata": {},
   "outputs": [
    {
     "data": {
      "text/plain": [
       "(156374, 20)"
      ]
     },
     "execution_count": 43,
     "metadata": {},
     "output_type": "execute_result"
    }
   ],
   "source": [
    "df.shape"
   ]
  },
  {
   "cell_type": "markdown",
   "metadata": {},
   "source": [
    "Save data sample for future use without having to load again."
   ]
  },
  {
   "cell_type": "code",
   "execution_count": 198,
   "metadata": {},
   "outputs": [],
   "source": [
    "# Pick up from here\n",
    "# df.to_parquet('../data/caselaw_sample.parquet')\n",
    "df = pd.read_parquet('../data/caselaw_sample.parquet')"
   ]
  },
  {
   "cell_type": "markdown",
   "metadata": {},
   "source": [
    "### Exploratory analysis of the data."
   ]
  },
  {
   "cell_type": "markdown",
   "metadata": {},
   "source": [
    "#### Word Counts"
   ]
  },
  {
   "cell_type": "code",
   "execution_count": 199,
   "metadata": {},
   "outputs": [
    {
     "data": {
      "text/plain": [
       "count    156374.000000\n",
       "mean       1882.482567\n",
       "std        2730.854813\n",
       "min           5.000000\n",
       "25%         228.000000\n",
       "50%        1128.000000\n",
       "75%        2494.000000\n",
       "max      112016.000000\n",
       "Name: word_count, dtype: float64"
      ]
     },
     "execution_count": 199,
     "metadata": {},
     "output_type": "execute_result"
    }
   ],
   "source": [
    "# Interested in word count statistics\n",
    "df['word_count'].describe()"
   ]
  },
  {
   "cell_type": "code",
   "execution_count": 200,
   "metadata": {},
   "outputs": [
    {
     "data": {
      "text/plain": [
       "(80884, 20)"
      ]
     },
     "execution_count": 200,
     "metadata": {},
     "output_type": "execute_result"
    }
   ],
   "source": [
    "# Mean is around 1800 words, median is around 1100 words. Choosing cutoff of 1200.\n",
    "cutoff = 1200\n",
    "df_filtered = df.query(f'word_count < {cutoff}')\n",
    "df_filtered.shape"
   ]
  },
  {
   "cell_type": "code",
   "execution_count": 201,
   "metadata": {},
   "outputs": [
    {
     "data": {
      "text/plain": [
       "array([[<Axes: title={'center': 'word_count'}>]], dtype=object)"
      ]
     },
     "execution_count": 201,
     "metadata": {},
     "output_type": "execute_result"
    },
    {
     "data": {
      "image/png": "[encoded data removed]",
      "text/plain": [
       "<Figure size 640x480 with 1 Axes>"
      ]
     },
     "metadata": {},
     "output_type": "display_data"
    }
   ],
   "source": [
    "df_filtered.hist(column='word_count', bins=20)"
   ]
  },
  {
   "cell_type": "markdown",
   "metadata": {},
   "source": [
    "#### Court Types"
   ]
  },
  {
   "cell_type": "code",
   "execution_count": 202,
   "metadata": {},
   "outputs": [
    {
     "data": {
      "text/html": [
       "<div>\n",
       "<style scoped>\n",
       "    .dataframe tbody tr th:only-of-type {\n",
       "        vertical-align: middle;\n",
       "    }\n",
       "\n",
       "    .dataframe tbody tr th {\n",
       "        vertical-align: top;\n",
       "    }\n",
       "\n",
       "    .dataframe thead th {\n",
       "        text-align: right;\n",
       "    }\n",
       "</style>\n",
       "<table border=\"1\" class=\"dataframe\">\n",
       "  <thead>\n",
       "    <tr style=\"text-align: right;\">\n",
       "      <th></th>\n",
       "      <th>id</th>\n",
       "    </tr>\n",
       "    <tr>\n",
       "      <th>court</th>\n",
       "      <th></th>\n",
       "    </tr>\n",
       "  </thead>\n",
       "  <tbody>\n",
       "    <tr>\n",
       "      <th>New York Supreme Court, Appellate Division</th>\n",
       "      <td>15396</td>\n",
       "    </tr>\n",
       "    <tr>\n",
       "      <th>Supreme Court of the United States</th>\n",
       "      <td>7553</td>\n",
       "    </tr>\n",
       "    <tr>\n",
       "      <th>Florida District Court of Appeal</th>\n",
       "      <td>4842</td>\n",
       "    </tr>\n",
       "    <tr>\n",
       "      <th>Louisiana Supreme Court</th>\n",
       "      <td>3787</td>\n",
       "    </tr>\n",
       "    <tr>\n",
       "      <th>New York Court of Appeals</th>\n",
       "      <td>1898</td>\n",
       "    </tr>\n",
       "    <tr>\n",
       "      <th>United States Court of Appeals for the Ninth Circuit</th>\n",
       "      <td>1849</td>\n",
       "    </tr>\n",
       "    <tr>\n",
       "      <th>Court of Appeals of Georgia</th>\n",
       "      <td>1448</td>\n",
       "    </tr>\n",
       "    <tr>\n",
       "      <th>Supreme Court of Ohio</th>\n",
       "      <td>1438</td>\n",
       "    </tr>\n",
       "    <tr>\n",
       "      <th>United States Court of Appeals for the Fifth Circuit</th>\n",
       "      <td>1350</td>\n",
       "    </tr>\n",
       "    <tr>\n",
       "      <th>United States Court of Appeals for the Fourth Circuit</th>\n",
       "      <td>1225</td>\n",
       "    </tr>\n",
       "    <tr>\n",
       "      <th>Washington Court of Appeals</th>\n",
       "      <td>1184</td>\n",
       "    </tr>\n",
       "    <tr>\n",
       "      <th>Texas Court of Criminal Appeals</th>\n",
       "      <td>1125</td>\n",
       "    </tr>\n",
       "    <tr>\n",
       "      <th>Illinois Appellate Court</th>\n",
       "      <td>1085</td>\n",
       "    </tr>\n",
       "    <tr>\n",
       "      <th>Supreme Court of North Carolina</th>\n",
       "      <td>1071</td>\n",
       "    </tr>\n",
       "    <tr>\n",
       "      <th>Supreme Court of Pennsylvania</th>\n",
       "      <td>1064</td>\n",
       "    </tr>\n",
       "    <tr>\n",
       "      <th>Supreme Court of Georgia</th>\n",
       "      <td>1035</td>\n",
       "    </tr>\n",
       "    <tr>\n",
       "      <th>Superior Court of Pennsylvania</th>\n",
       "      <td>1015</td>\n",
       "    </tr>\n",
       "    <tr>\n",
       "      <th>United States Customs Court</th>\n",
       "      <td>948</td>\n",
       "    </tr>\n",
       "    <tr>\n",
       "      <th>Florida Supreme Court</th>\n",
       "      <td>926</td>\n",
       "    </tr>\n",
       "    <tr>\n",
       "      <th>New York Supreme Court</th>\n",
       "      <td>911</td>\n",
       "    </tr>\n",
       "    <tr>\n",
       "      <th>Missouri Court of Appeals</th>\n",
       "      <td>860</td>\n",
       "    </tr>\n",
       "    <tr>\n",
       "      <th>New York Supreme Court, General Term</th>\n",
       "      <td>852</td>\n",
       "    </tr>\n",
       "    <tr>\n",
       "      <th>Louisiana Court of Appeal</th>\n",
       "      <td>826</td>\n",
       "    </tr>\n",
       "    <tr>\n",
       "      <th>Kentucky Court of Appeals</th>\n",
       "      <td>816</td>\n",
       "    </tr>\n",
       "    <tr>\n",
       "      <th>Supreme Court of New Jersey</th>\n",
       "      <td>735</td>\n",
       "    </tr>\n",
       "    <tr>\n",
       "      <th>United States Court of Appeals for the Second Circuit</th>\n",
       "      <td>717</td>\n",
       "    </tr>\n",
       "    <tr>\n",
       "      <th>Texas Courts of Civil Appeals</th>\n",
       "      <td>601</td>\n",
       "    </tr>\n",
       "    <tr>\n",
       "      <th>Michigan Supreme Court</th>\n",
       "      <td>593</td>\n",
       "    </tr>\n",
       "    <tr>\n",
       "      <th>Massachusetts Supreme Judicial Court</th>\n",
       "      <td>593</td>\n",
       "    </tr>\n",
       "    <tr>\n",
       "      <th>Supreme Court of Puerto Rico</th>\n",
       "      <td>544</td>\n",
       "    </tr>\n",
       "    <tr>\n",
       "      <th>United States Court of Appeals for the Eighth Circuit</th>\n",
       "      <td>533</td>\n",
       "    </tr>\n",
       "    <tr>\n",
       "      <th>Supreme Court of Indiana</th>\n",
       "      <td>504</td>\n",
       "    </tr>\n",
       "  </tbody>\n",
       "</table>\n",
       "</div>"
      ],
      "text/plain": [
       "                                                       id\n",
       "court                                                    \n",
       "New York Supreme Court, Appellate Division          15396\n",
       "Supreme Court of the United States                   7553\n",
       "Florida District Court of Appeal                     4842\n",
       "Louisiana Supreme Court                              3787\n",
       "New York Court of Appeals                            1898\n",
       "United States Court of Appeals for the Ninth Ci...   1849\n",
       "Court of Appeals of Georgia                          1448\n",
       "Supreme Court of Ohio                                1438\n",
       "United States Court of Appeals for the Fifth Ci...   1350\n",
       "United States Court of Appeals for the Fourth C...   1225\n",
       "Washington Court of Appeals                          1184\n",
       "Texas Court of Criminal Appeals                      1125\n",
       "Illinois Appellate Court                             1085\n",
       "Supreme Court of North Carolina                      1071\n",
       "Supreme Court of Pennsylvania                        1064\n",
       "Supreme Court of Georgia                             1035\n",
       "Superior Court of Pennsylvania                       1015\n",
       "United States Customs Court                           948\n",
       "Florida Supreme Court                                 926\n",
       "New York Supreme Court                                911\n",
       "Missouri Court of Appeals                             860\n",
       "New York Supreme Court, General Term                  852\n",
       "Louisiana Court of Appeal                             826\n",
       "Kentucky Court of Appeals                             816\n",
       "Supreme Court of New Jersey                           735\n",
       "United States Court of Appeals for the Second C...    717\n",
       "Texas Courts of Civil Appeals                         601\n",
       "Michigan Supreme Court                                593\n",
       "Massachusetts Supreme Judicial Court                  593\n",
       "Supreme Court of Puerto Rico                          544\n",
       "United States Court of Appeals for the Eighth C...    533\n",
       "Supreme Court of Indiana                              504"
      ]
     },
     "execution_count": 202,
     "metadata": {},
     "output_type": "execute_result"
    }
   ],
   "source": [
    "# Look into the different courts that are present, statistics\n",
    "court_counts = df_filtered[['id', 'court']].groupby('court').count().sort_values('id', ascending=False)\n",
    "court_counts.query('id > 500')"
   ]
  },
  {
   "cell_type": "markdown",
   "metadata": {},
   "source": [
    "Types of courts seem to include:\n",
    "- Supreme Court of United States\n",
    "- United States Court of Appleas (for the ...th Circuit)\n",
    "- United States Customs Court\n",
    "- Supreme Court of [State]\n",
    "- Appellate Court / Court of Appeals / Court of Errors and Appeals\n",
    "- Superior Court\n",
    "- New York Supreme Court, General Term; New York Supreme Court, New York Supreme Court, Appllate Division\n",
    "- Court of Claims\n",
    "- United States Board of Tax Appeals\n",
    "- District Court\n",
    "- Other\n",
    "\n",
    "\n",
    "\n"
   ]
  },
  {
   "cell_type": "code",
   "execution_count": 203,
   "metadata": {},
   "outputs": [
    {
     "name": "stderr",
     "output_type": "stream",
     "text": [
      "/var/folders/z_/cywsxk4n26911n3csczkd0gc0000gn/T/ipykernel_83216/2222923943.py:21: SettingWithCopyWarning: \n",
      "A value is trying to be set on a copy of a slice from a DataFrame.\n",
      "Try using .loc[row_indexer,col_indexer] = value instead\n",
      "\n",
      "See the caveats in the documentation: https://pandas.pydata.org/pandas-docs/stable/user_guide/indexing.html#returning-a-view-versus-a-copy\n",
      "  df_filtered.loc[:, 'court_type'] = df_filtered.loc[:, 'court'].apply(court_type)\n"
     ]
    },
    {
     "data": {
      "text/html": [
       "<div>\n",
       "<style scoped>\n",
       "    .dataframe tbody tr th:only-of-type {\n",
       "        vertical-align: middle;\n",
       "    }\n",
       "\n",
       "    .dataframe tbody tr th {\n",
       "        vertical-align: top;\n",
       "    }\n",
       "\n",
       "    .dataframe thead th {\n",
       "        text-align: right;\n",
       "    }\n",
       "</style>\n",
       "<table border=\"1\" class=\"dataframe\">\n",
       "  <thead>\n",
       "    <tr style=\"text-align: right;\">\n",
       "      <th></th>\n",
       "      <th>court</th>\n",
       "      <th>court_type</th>\n",
       "    </tr>\n",
       "  </thead>\n",
       "  <tbody>\n",
       "    <tr>\n",
       "      <th>8</th>\n",
       "      <td>Alaska Supreme Court</td>\n",
       "      <td>State Supreme Court</td>\n",
       "    </tr>\n",
       "    <tr>\n",
       "      <th>9</th>\n",
       "      <td>Alaska Supreme Court</td>\n",
       "      <td>State Supreme Court</td>\n",
       "    </tr>\n",
       "    <tr>\n",
       "      <th>10</th>\n",
       "      <td>Alaska Supreme Court</td>\n",
       "      <td>State Supreme Court</td>\n",
       "    </tr>\n",
       "    <tr>\n",
       "      <th>13</th>\n",
       "      <td>Alaska Supreme Court</td>\n",
       "      <td>State Supreme Court</td>\n",
       "    </tr>\n",
       "    <tr>\n",
       "      <th>22</th>\n",
       "      <td>Alaska Court of Appeals</td>\n",
       "      <td>Court of Appeals</td>\n",
       "    </tr>\n",
       "    <tr>\n",
       "      <th>...</th>\n",
       "      <td>...</td>\n",
       "      <td>...</td>\n",
       "    </tr>\n",
       "    <tr>\n",
       "      <th>156345</th>\n",
       "      <td>Supreme Court of Wyoming</td>\n",
       "      <td>State Supreme Court</td>\n",
       "    </tr>\n",
       "    <tr>\n",
       "      <th>156350</th>\n",
       "      <td>Supreme Court of Wyoming</td>\n",
       "      <td>State Supreme Court</td>\n",
       "    </tr>\n",
       "    <tr>\n",
       "      <th>156352</th>\n",
       "      <td>Supreme Court of Wyoming</td>\n",
       "      <td>State Supreme Court</td>\n",
       "    </tr>\n",
       "    <tr>\n",
       "      <th>156370</th>\n",
       "      <td>Supreme Court of Wyoming</td>\n",
       "      <td>State Supreme Court</td>\n",
       "    </tr>\n",
       "    <tr>\n",
       "      <th>156372</th>\n",
       "      <td>Supreme Court of Wyoming</td>\n",
       "      <td>State Supreme Court</td>\n",
       "    </tr>\n",
       "  </tbody>\n",
       "</table>\n",
       "<p>80884 rows × 2 columns</p>\n",
       "</div>"
      ],
      "text/plain": [
       "                           court           court_type\n",
       "8           Alaska Supreme Court  State Supreme Court\n",
       "9           Alaska Supreme Court  State Supreme Court\n",
       "10          Alaska Supreme Court  State Supreme Court\n",
       "13          Alaska Supreme Court  State Supreme Court\n",
       "22       Alaska Court of Appeals     Court of Appeals\n",
       "...                          ...                  ...\n",
       "156345  Supreme Court of Wyoming  State Supreme Court\n",
       "156350  Supreme Court of Wyoming  State Supreme Court\n",
       "156352  Supreme Court of Wyoming  State Supreme Court\n",
       "156370  Supreme Court of Wyoming  State Supreme Court\n",
       "156372  Supreme Court of Wyoming  State Supreme Court\n",
       "\n",
       "[80884 rows x 2 columns]"
      ]
     },
     "execution_count": 203,
     "metadata": {},
     "output_type": "execute_result"
    }
   ],
   "source": [
    "def court_type(court):\n",
    "    court = court.lower()\n",
    "    if 'supreme court of the united states' in court:\n",
    "        return 'Supreme Court of the United States'\n",
    "    if any(['court of appeals' in court, 'appellate court' in court, 'court of errors and appeals' in court] ):\n",
    "        return 'Court of Appeals'\n",
    "    if 'supreme' in court:\n",
    "        return 'State Supreme Court'\n",
    "    if 'district court' in court:\n",
    "        return 'District Court'\n",
    "    if 'superior' in court:\n",
    "        return 'Superior Court'\n",
    "    if 'court of claims' in court:\n",
    "        return 'Court of Claims'\n",
    "    if 'tax' in court:\n",
    "        return 'Tax Court'\n",
    "    if 'customs' in court:\n",
    "        return 'Customs Court'\n",
    "    return 'Other'\n",
    "\n",
    "df_filtered.loc[:, 'court_type'] = df_filtered.loc[:, 'court'].apply(court_type)\n",
    "df_filtered[['court', 'court_type']]"
   ]
  },
  {
   "cell_type": "code",
   "execution_count": 204,
   "metadata": {},
   "outputs": [
    {
     "name": "stdout",
     "output_type": "stream",
     "text": [
      "court_type\n",
      "State Supreme Court                   37651\n",
      "Court of Appeals                      18455\n",
      "Supreme Court of the United States     7553\n",
      "District Court                         7393\n",
      "Other                                  6483\n",
      "Superior Court                         1560\n",
      "Customs Court                          1041\n",
      "Court of Claims                         520\n",
      "Tax Court                               228\n",
      "Name: count, dtype: int64\n"
     ]
    },
    {
     "data": {
      "text/plain": [
       "<Axes: title={'center': 'Court Type Counts'}, ylabel='Frequency'>"
      ]
     },
     "execution_count": 204,
     "metadata": {},
     "output_type": "execute_result"
    },
    {
     "data": {
      "image/png": "[encoded data removed]",
      "text/plain": [
       "<Figure size 640x480 with 1 Axes>"
      ]
     },
     "metadata": {},
     "output_type": "display_data"
    }
   ],
   "source": [
    "df_courttype_counts = df_filtered.loc[:, 'court_type'].value_counts()\n",
    "print(df_courttype_counts)\n",
    "df_courttype_counts.plot.hist(title='Court Type Counts', edgecolor='black')"
   ]
  },
  {
   "cell_type": "markdown",
   "metadata": {},
   "source": [
    "#### Jurisdictions"
   ]
  },
  {
   "cell_type": "code",
   "execution_count": 205,
   "metadata": {},
   "outputs": [],
   "source": [
    "# Look into the different jurisdictions that are present, statistics\n",
    "jurisdiction_counts = df_filtered.loc[:, 'jurisdiction'].value_counts().sort_values(ascending=False)\n"
   ]
  },
  {
   "cell_type": "code",
   "execution_count": 206,
   "metadata": {},
   "outputs": [
    {
     "data": {
      "text/plain": [
       "<Axes: title={'center': 'Jurisdiction Counts'}, ylabel='Frequency'>"
      ]
     },
     "execution_count": 206,
     "metadata": {},
     "output_type": "execute_result"
    },
    {
     "data": {
      "image/png": "[encoded data removed]",
      "text/plain": [
       "<Figure size 640x480 with 1 Axes>"
      ]
     },
     "metadata": {},
     "output_type": "display_data"
    }
   ],
   "source": [
    "jurisdiction_counts.plot.hist(title='Jurisdiction Counts', bins=15, edgecolor='black')"
   ]
  },
  {
   "cell_type": "markdown",
   "metadata": {},
   "source": [
    "We are omega unbalanced Jurisdictions. New York is the highest, even ahead of federal. Will definitely need to balance across states."
   ]
  },
  {
   "cell_type": "markdown",
   "metadata": {},
   "source": [
    "#### Balanced dataset creation"
   ]
  },
  {
   "cell_type": "code",
   "execution_count": 108,
   "metadata": {},
   "outputs": [
    {
     "name": "stdout",
     "output_type": "stream",
     "text": [
      "court_type_jurisdiction\n",
      "State Supreme Court - New York                        17671\n",
      "Court of Appeals - United States                       7989\n",
      "Supreme Court of the United States - United States     7553\n",
      "District Court - Florida                               5388\n",
      "State Supreme Court - Louisiana                        3787\n",
      "                                                      ...  \n",
      "Tax Court - Indiana                                       1\n",
      "Superior Court - Maryland                                 1\n",
      "Other - Kentucky                                          1\n",
      "Superior Court - Northern Mariana Islands                 1\n",
      "District Court - Massachusetts                            1\n",
      "Name: count, Length: 162, dtype: int64\n"
     ]
    },
    {
     "data": {
      "text/plain": [
       "<Axes: title={'center': 'Court Type - Jurisdiction Counts'}, ylabel='Frequency'>"
      ]
     },
     "execution_count": 108,
     "metadata": {},
     "output_type": "execute_result"
    },
    {
     "data": {
      "image/png": "[encoded data removed]",
      "text/plain": [
       "<Figure size 640x480 with 1 Axes>"
      ]
     },
     "metadata": {},
     "output_type": "display_data"
    }
   ],
   "source": [
    "df_filtered.loc[:, 'court_type_jurisdiction'] = df_filtered.apply(lambda x: f\"{x['court_type']} - {x['jurisdiction']}\", axis=1)\n",
    "df_courttype_jurisdiction_counts = df_filtered.loc[:, 'court_type_jurisdiction'].value_counts()\n",
    "print(df_courttype_jurisdiction_counts)\n",
    "df_courttype_jurisdiction_counts.plot.hist(title='Court Type - Jurisdiction Counts', bins=15, edgecolor='black')"
   ]
  },
  {
   "cell_type": "code",
   "execution_count": 109,
   "metadata": {},
   "outputs": [
    {
     "data": {
      "text/plain": [
       "<Axes: title={'center': 'Court Type - Jurisdiction Counts (Zoomed In)'}, ylabel='Frequency'>"
      ]
     },
     "execution_count": 109,
     "metadata": {},
     "output_type": "execute_result"
    },
    {
     "data": {
      "image/png": "[encoded data removed]",
      "text/plain": [
       "<Figure size 640x480 with 1 Axes>"
      ]
     },
     "metadata": {},
     "output_type": "display_data"
    }
   ],
   "source": [
    "# Zoomed in histogram\n",
    "df_courttype_jurisdiction_counts.loc[df_courttype_jurisdiction_counts < 2500].plot.hist(title='Court Type - Jurisdiction Counts (Zoomed In)', bins=20, edgecolor='black')"
   ]
  },
  {
   "cell_type": "code",
   "execution_count": 110,
   "metadata": {},
   "outputs": [
    {
     "data": {
      "text/plain": [
       "court_type_jurisdiction\n",
       "State Supreme Court - New York                        17671\n",
       "Court of Appeals - United States                       7989\n",
       "Supreme Court of the United States - United States     7553\n",
       "District Court - Florida                               5388\n",
       "State Supreme Court - Louisiana                        3787\n",
       "Name: count, dtype: int64"
      ]
     },
     "execution_count": 110,
     "metadata": {},
     "output_type": "execute_result"
    }
   ],
   "source": [
    "df_courttype_jurisdiction_counts.head()"
   ]
  },
  {
   "cell_type": "code",
   "execution_count": 111,
   "metadata": {},
   "outputs": [
    {
     "name": "stdout",
     "output_type": "stream",
     "text": [
      "Number of combos over 10: 121\n",
      "Number of combos under 10: 41\n",
      "Estimated raw count above  10: 4276000\n",
      "Estimated raw count below 10: 8000\n",
      "Estimated raw percent below 10: 0.2\n",
      "---------------------------------------------\n",
      "Number of combos over 50: 95\n",
      "Number of combos under 50: 67\n",
      "Estimated raw count above  50: 4239000\n",
      "Estimated raw count below 50: 45000\n",
      "Estimated raw percent below 50: 1.06\n",
      "---------------------------------------------\n",
      "Number of combos over 100: 76\n",
      "Number of combos under 100: 86\n",
      "Estimated raw count above  100: 4162000\n",
      "Estimated raw count below 100: 122000\n",
      "Estimated raw percent below 100: 2.85\n",
      "---------------------------------------------\n",
      "Number of combos over 250: 47\n",
      "Number of combos under 250: 115\n",
      "Estimated raw count above  250: 3903000\n",
      "Estimated raw count below 250: 381000\n",
      "Estimated raw percent below 250: 8.89\n",
      "---------------------------------------------\n",
      "Number of combos over 500: 29\n",
      "Number of combos under 500: 133\n",
      "Estimated raw count above  500: 3577000\n",
      "Estimated raw count below 500: 707000\n",
      "Estimated raw percent below 500: 16.51\n",
      "---------------------------------------------\n"
     ]
    }
   ],
   "source": [
    "# Exploring cutoffs\n",
    "cutoffs = [10, 50, 100, 250, 500]\n",
    "# Scaler used to estimate number of raw counts in full dataset\n",
    "total_size = 4284276\n",
    "scaler = total_size / df_filtered.shape[0]\n",
    "\n",
    "\n",
    "for cutoff in cutoffs:\n",
    "    print(f\"Number of combos over {cutoff}: {df_courttype_jurisdiction_counts.loc[df_courttype_jurisdiction_counts > cutoff].shape[0]}\")\n",
    "    print(f\"Number of combos under {cutoff}: {df_courttype_jurisdiction_counts.loc[df_courttype_jurisdiction_counts <= cutoff].shape[0]}\")\n",
    "    print(f\"Estimated raw count above  {cutoff}: {int(round(df_courttype_jurisdiction_counts.loc[df_courttype_jurisdiction_counts > cutoff].sum() * scaler, -3))}\")\n",
    "    print(f\"Estimated raw count below {cutoff}: {int(round(df_courttype_jurisdiction_counts.loc[df_courttype_jurisdiction_counts <= cutoff].sum() * scaler, -3))}\")\n",
    "    print(f\"Estimated raw percent below {cutoff}: {round(df_courttype_jurisdiction_counts.loc[df_courttype_jurisdiction_counts <= cutoff].sum() * scaler / total_size * 100, 2)}\")\n",
    "    print('---------------------------------------------')"
   ]
  },
  {
   "cell_type": "markdown",
   "metadata": {},
   "source": [
    "Planning on using a cutoff of 10 as the \"other\" category in my sampler."
   ]
  },
  {
   "cell_type": "code",
   "execution_count": 212,
   "metadata": {},
   "outputs": [],
   "source": [
    "# Save the list of court type - jurisdiction combos with more than 10 counts\n",
    "main = list(df_courttype_jurisdiction_counts[df_courttype_jurisdiction_counts > 10].index)\n",
    "with open('../data/main_courttype_jurisdiction_combos.txt', 'w') as f:\n",
    "    for item in main:\n",
    "        f.write(f\"{item}\\n\")"
   ]
  },
  {
   "cell_type": "code",
   "execution_count": 213,
   "metadata": {},
   "outputs": [
    {
     "data": {
      "text/plain": [
       "122"
      ]
     },
     "execution_count": 213,
     "metadata": {},
     "output_type": "execute_result"
    }
   ],
   "source": [
    "courttype_jurisdictions = main + ['Other']\n",
    "len(courttype_jurisdictions)"
   ]
  },
  {
   "cell_type": "markdown",
   "metadata": {},
   "source": [
    "# Make balanced, stratified sample of full data"
   ]
  },
  {
   "cell_type": "code",
   "execution_count": 236,
   "metadata": {},
   "outputs": [],
   "source": [
    "ds = load_dataset('free-law/Caselaw_Access_Project', split='train')\n",
    "wc_cutoff = 1200"
   ]
  },
  {
   "cell_type": "code",
   "execution_count": 238,
   "metadata": {},
   "outputs": [],
   "source": [
    "ds = ds.remove_columns(['first_page', 'last_page', 'volume', 'last_updated', 'provenance', 'judges', 'parties', 'head_matter', 'char_count'])"
   ]
  },
  {
   "cell_type": "code",
   "execution_count": 239,
   "metadata": {},
   "outputs": [],
   "source": [
    "ds = ds.filter(lambda x: x['word_count'] != '')"
   ]
  },
  {
   "cell_type": "code",
   "execution_count": 240,
   "metadata": {},
   "outputs": [],
   "source": [
    "features = ds.features\n",
    "new_features = features.copy()\n",
    "new_features['word_count'] = Value(\"int64\")\n",
    "ds = ds.cast(new_features)"
   ]
  },
  {
   "cell_type": "code",
   "execution_count": 241,
   "metadata": {},
   "outputs": [
    {
     "name": "stderr",
     "output_type": "stream",
     "text": [
      "Filter: 100%|██████████| 6678476/6678476 [02:50<00:00, 39237.68 examples/s] \n"
     ]
    }
   ],
   "source": [
    "ds = ds.filter(lambda x: x['word_count'] < wc_cutoff)"
   ]
  },
  {
   "cell_type": "code",
   "execution_count": 242,
   "metadata": {},
   "outputs": [
    {
     "data": {
      "text/plain": [
       "['id',\n",
       " 'name',\n",
       " 'name_abbreviation',\n",
       " 'decision_date',\n",
       " 'docket_number',\n",
       " 'citations',\n",
       " 'reporter',\n",
       " 'court',\n",
       " 'jurisdiction',\n",
       " 'word_count',\n",
       " 'text']"
      ]
     },
     "execution_count": 242,
     "metadata": {},
     "output_type": "execute_result"
    }
   ],
   "source": [
    "ds.column_names"
   ]
  },
  {
   "cell_type": "code",
   "execution_count": 244,
   "metadata": {},
   "outputs": [
    {
     "name": "stderr",
     "output_type": "stream",
     "text": [
      "Map: 100%|██████████| 3455806/3455806 [04:29<00:00, 12843.98 examples/s]\n"
     ]
    }
   ],
   "source": [
    "def get_court_type(court):\n",
    "    court = court.lower()\n",
    "    if 'supreme court of the united states' in court:\n",
    "        return 'Supreme Court of the United States'\n",
    "    if any(['court of appeals' in court, 'appellate court' in court, 'court of errors and appeals' in court] ):\n",
    "        return 'Court of Appeals'\n",
    "    if 'supreme' in court:\n",
    "        return 'State Supreme Court'\n",
    "    if 'district court' in court:\n",
    "        return 'District Court'\n",
    "    if 'superior' in court:\n",
    "        return 'Superior Court'\n",
    "    if 'court of claims' in court:\n",
    "        return 'Court of Claims'\n",
    "    if 'tax' in court:\n",
    "        return 'Tax Court'\n",
    "    if 'customs' in court:\n",
    "        return 'Customs Court'\n",
    "    return 'Other'\n",
    "\n",
    "with open('../data/main_courttype_jurisdiction_combos.txt', 'r') as f:\n",
    "    main = f.read().splitlines()\n",
    "\n",
    "def get_courttype_jurisdiction(example):\n",
    "    court = example['court']\n",
    "    jurisdiction = example['jurisdiction']\n",
    "    court_type = get_court_type(court)\n",
    "    combo = f\"{court_type} - {jurisdiction}\"\n",
    "    if combo not in main:\n",
    "        return 'Other'\n",
    "    return combo\n",
    "\n",
    "ds = ds.map(lambda x: {'court_type_jurisdiction': get_courttype_jurisdiction(x)})"
   ]
  },
  {
   "cell_type": "code",
   "execution_count": 246,
   "metadata": {},
   "outputs": [
    {
     "data": {
      "text/plain": [
       "122"
      ]
     },
     "execution_count": 246,
     "metadata": {},
     "output_type": "execute_result"
    }
   ],
   "source": [
    "court_type_jurisdictions_unique = list(set(ds['court_type_jurisdiction']))\n",
    "len(court_type_jurisdictions_unique)"
   ]
  },
  {
   "cell_type": "code",
   "execution_count": 248,
   "metadata": {},
   "outputs": [
    {
     "name": "stderr",
     "output_type": "stream",
     "text": [
      "Casting the dataset: 100%|██████████| 3455806/3455806 [00:21<00:00, 164530.47 examples/s]\n"
     ]
    }
   ],
   "source": [
    "new_features = ds.features.copy()\n",
    "new_features['court_type_jurisdiction'] = ClassLabel(names=court_type_jurisdictions_unique)\n",
    "ds = ds.cast(new_features)"
   ]
  },
  {
   "cell_type": "code",
   "execution_count": 250,
   "metadata": {},
   "outputs": [],
   "source": [
    "# Shuffle the dataset, but write to disk using flatten_indices to speed up\n",
    "ds = ds.shuffle(seed=42)\n"
   ]
  },
  {
   "cell_type": "code",
   "execution_count": 252,
   "metadata": {},
   "outputs": [
    {
     "name": "stderr",
     "output_type": "stream",
     "text": [
      "Flattening the indices: 100%|██████████| 3455806/3455806 [02:58<00:00, 19368.53 examples/s]\n"
     ]
    }
   ],
   "source": [
    "ds = ds.flatten_indices()"
   ]
  },
  {
   "cell_type": "code",
   "execution_count": 263,
   "metadata": {},
   "outputs": [
    {
     "name": "stderr",
     "output_type": "stream",
     "text": [
      "Map: 100%|██████████| 3455806/3455806 [01:04<00:00, 53171.55 examples/s]\n"
     ]
    },
    {
     "data": {
      "text/plain": [
       "Dataset({\n",
       "    features: ['id', 'name', 'name_abbreviation', 'decision_date', 'docket_number', 'citations', 'reporter', 'court', 'jurisdiction', 'word_count', 'text', 'court_type_jurisdiction'],\n",
       "    num_rows: 3455806\n",
       "})"
      ]
     },
     "execution_count": 263,
     "metadata": {},
     "output_type": "execute_result"
    }
   ],
   "source": [
    "from collections import defaultdict\n",
    "\n",
    "sample_target = 100_000 # Target size of sampled dataset\n",
    "class_target = sample_target // len(court_type_jurisdictions_unique) # Target size of each class\n",
    "\n",
    "samples_dict = defaultdict(int)\n",
    "sampled_indices = []\n",
    "\n",
    "def check_sample(cls, id):\n",
    "    if samples_dict[cls] < class_target:\n",
    "        samples_dict[cls] += 1\n",
    "        sampled_indices.append(id)\n",
    "\n",
    "ds.map(lambda x: check_sample(x['court_type_jurisdiction'], x['id']))"
   ]
  },
  {
   "cell_type": "code",
   "execution_count": 266,
   "metadata": {},
   "outputs": [
    {
     "name": "stderr",
     "output_type": "stream",
     "text": [
      "Filter: 100%|██████████| 3455806/3455806 [34:43<00:00, 1658.33 examples/s]\n"
     ]
    }
   ],
   "source": [
    "balanced_ds = ds.filter(lambda x: x['id'] in sampled_indices)"
   ]
  },
  {
   "cell_type": "code",
   "execution_count": 270,
   "metadata": {},
   "outputs": [
    {
     "data": {
      "text/plain": [
       "(97740, 12)"
      ]
     },
     "execution_count": 270,
     "metadata": {},
     "output_type": "execute_result"
    }
   ],
   "source": [
    "balanced_ds.shape"
   ]
  },
  {
   "cell_type": "code",
   "execution_count": 271,
   "metadata": {},
   "outputs": [
    {
     "name": "stderr",
     "output_type": "stream",
     "text": [
      "Creating parquet from Arrow format: 100%|██████████| 98/98 [00:05<00:00, 18.04ba/s]\n"
     ]
    },
    {
     "data": {
      "text/plain": [
       "311128820"
      ]
     },
     "execution_count": 271,
     "metadata": {},
     "output_type": "execute_result"
    }
   ],
   "source": [
    "balanced_ds.to_parquet('../data/caselaw_balanced.parquet')"
   ]
  }
 ],
 "metadata": {
  "kernelspec": {
   "display_name": "venv",
   "language": "python",
   "name": "python3"
  },
  "language_info": {
   "codemirror_mode": {
    "name": "ipython",
    "version": 3
   },
   "file_extension": ".py",
   "mimetype": "text/x-python",
   "name": "python",
   "nbconvert_exporter": "python",
   "pygments_lexer": "ipython3",
   "version": "3.11.5"
  }
 },
 "nbformat": 4,
 "nbformat_minor": 2
}
